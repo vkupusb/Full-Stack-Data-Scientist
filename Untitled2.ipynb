{
 "cells": [
  {
   "cell_type": "code",
   "execution_count": 1,
   "id": "excess-falls",
   "metadata": {},
   "outputs": [
    {
     "name": "stdout",
     "output_type": "stream",
     "text": [
      "good\n"
     ]
    }
   ],
   "source": [
    "print ('good')"
   ]
  },
  {
   "cell_type": "code",
   "execution_count": 2,
   "id": "large-cricket",
   "metadata": {},
   "outputs": [
    {
     "name": "stdout",
     "output_type": "stream",
     "text": [
      "jupyter\n"
     ]
    }
   ],
   "source": [
    "print ('jupyter')"
   ]
  },
  {
   "cell_type": "code",
   "execution_count": 3,
   "id": "thirty-appeal",
   "metadata": {},
   "outputs": [
    {
     "name": "stdout",
     "output_type": "stream",
     "text": [
      "python\n"
     ]
    }
   ],
   "source": [
    "print ('python')"
   ]
  },
  {
   "cell_type": "code",
   "execution_count": 4,
   "id": "patent-briefing",
   "metadata": {},
   "outputs": [
    {
     "name": "stdout",
     "output_type": "stream",
     "text": [
      "soon\n"
     ]
    }
   ],
   "source": [
    "print ('soon')"
   ]
  },
  {
   "cell_type": "code",
   "execution_count": 5,
   "id": "seasonal-butterfly",
   "metadata": {},
   "outputs": [
    {
     "name": "stdout",
     "output_type": "stream",
     "text": [
      "lilly\n"
     ]
    }
   ],
   "source": [
    "print ('lilly')"
   ]
  },
  {
   "cell_type": "code",
   "execution_count": 6,
   "id": "optical-target",
   "metadata": {},
   "outputs": [
    {
     "name": "stdout",
     "output_type": "stream",
     "text": [
      "water melon\n"
     ]
    }
   ],
   "source": [
    "print ('water melon')"
   ]
  },
  {
   "cell_type": "code",
   "execution_count": 7,
   "id": "billion-eligibility",
   "metadata": {},
   "outputs": [
    {
     "name": "stdout",
     "output_type": "stream",
     "text": [
      "preety\n"
     ]
    }
   ],
   "source": [
    "print ('p\n",
    "       reety')"
   ]
  },
  {
   "cell_type": "code",
   "execution_count": 8,
   "id": "biological-livestock",
   "metadata": {},
   "outputs": [
    {
     "name": "stdout",
     "output_type": "stream",
     "text": [
      "band\n"
     ]
    }
   ],
   "source": [
    "print ('band')"
   ]
  },
  {
   "cell_type": "code",
   "execution_count": 9,
   "id": "educated-poland",
   "metadata": {},
   "outputs": [
    {
     "name": "stdout",
     "output_type": "stream",
     "text": [
      "yellow\n"
     ]
    }
   ],
   "source": [
    "print ('yellow')"
   ]
  },
  {
   "cell_type": "code",
   "execution_count": 10,
   "id": "crazy-judgment",
   "metadata": {},
   "outputs": [
    {
     "name": "stdout",
     "output_type": "stream",
     "text": [
      "goat\n"
     ]
    }
   ],
   "source": [
    "print ('goat')"
   ]
  },
  {
   "cell_type": "code",
   "execution_count": 11,
   "id": "significant-stevens",
   "metadata": {},
   "outputs": [
    {
     "name": "stdout",
     "output_type": "stream",
     "text": [
      "so\n"
     ]
    }
   ],
   "source": [
    "print ('so')"
   ]
  },
  {
   "cell_type": "code",
   "execution_count": 12,
   "id": "suitable-calvin",
   "metadata": {},
   "outputs": [
    {
     "name": "stdout",
     "output_type": "stream",
     "text": [
      "tost\n"
     ]
    }
   ],
   "source": [
    "print ('tost')"
   ]
  },
  {
   "cell_type": "code",
   "execution_count": 13,
   "id": "saved-minnesota",
   "metadata": {},
   "outputs": [
    {
     "name": "stdout",
     "output_type": "stream",
     "text": [
      "booooooooooooooooooooooooooooooooooooooooooooooooooooooooooooooook\n"
     ]
    }
   ],
   "source": [
    "print ('booooooooooooooooooooooooooooooooooooooooooooooooooooooooooooooook')"
   ]
  },
  {
   "cell_type": "code",
   "execution_count": 14,
   "id": "nearby-concentrate",
   "metadata": {},
   "outputs": [
    {
     "name": "stdout",
     "output_type": "stream",
     "text": [
      "boom\n"
     ]
    }
   ],
   "source": [
    "print ('boom')"
   ]
  },
  {
   "cell_type": "code",
   "execution_count": 15,
   "id": "streaming-solomon",
   "metadata": {},
   "outputs": [
    {
     "name": "stdout",
     "output_type": "stream",
     "text": [
      "soooooooooooooooooooooooooooooooooooooooooooooooooooooooooooon\n"
     ]
    }
   ],
   "source": [
    "print ('soooooooooooooooooooooooooooooooooooooooooooooooooooooooooooon')"
   ]
  },
  {
   "cell_type": "code",
   "execution_count": 16,
   "id": "local-journey",
   "metadata": {},
   "outputs": [
    {
     "name": "stdout",
     "output_type": "stream",
     "text": [
      "moooooooooooooooooooooooooooooooooooooooooooooooooooooooooooooooooooooooooooooooooooooon\n"
     ]
    }
   ],
   "source": [
    "print ('moooooooooooooooooooooooooooooooooooooooooooooooooooooooooooooooooooooooooooooooooooooon')"
   ]
  },
  {
   "cell_type": "code",
   "execution_count": 17,
   "id": "representative-correspondence",
   "metadata": {},
   "outputs": [
    {
     "name": "stdout",
     "output_type": "stream",
     "text": [
      "vooooooooooooooooooooooooooooooooooooooooooooooooooooooooooooooooooooooooooooooooooooooooooooooooooooooooooooooooooooon\n"
     ]
    }
   ],
   "source": [
    "print ('vooooooooooooooooooooooooooooooooooooooooooooooooooooooooooooooooooooooooooooooooooooooooooooooooooooooooooooooooooo')"
   ]
  },
  {
   "cell_type": "code",
   "execution_count": 18,
   "id": "million-montgomery",
   "metadata": {},
   "outputs": [
    {
     "name": "stdout",
     "output_type": "stream",
     "text": [
      "duuuuuuuuuuuuuuuuuuuuuuuuuuuuuuuuuuuuuuuuuuuuuuuuuuuuullllllllllllllllllllllllllllllllllllll\n"
     ]
    }
   ],
   "source": [
    "print ('duuuuuuuuuuuuuuuuuuuuuuuuuuuuuuuuuuuuuuuuuuuuuuuuuuuuullllllllllllllllllllllllllllllllllllll')"
   ]
  },
  {
   "cell_type": "code",
   "execution_count": 19,
   "id": "lyric-entity",
   "metadata": {},
   "outputs": [
    {
     "name": "stdout",
     "output_type": "stream",
     "text": [
      "zoo\n"
     ]
    }
   ],
   "source": [
    "print ('zoo')"
   ]
  },
  {
   "cell_type": "code",
   "execution_count": 20,
   "id": "infinite-attitude",
   "metadata": {},
   "outputs": [
    {
     "name": "stdout",
     "output_type": "stream",
     "text": [
      "room\n"
     ]
    }
   ],
   "source": [
    "print('room')"
   ]
  }
 ],
 "metadata": {
  "kernelspec": {
   "display_name": "Python 3",
   "language": "python",
   "name": "python3"
  },
  "language_info": {
   "codemirror_mode": {
    "name": "ipython",
    "version": 3
   },
   "file_extension": ".py",
   "mimetype": "text/x-python",
   "name": "python",
   "nbconvert_exporter": "python",
   "pygments_lexer": "ipython3",
   "version": "3.8.2"
  }
 },
 "nbformat": 4,
 "nbformat_minor": 5
}
