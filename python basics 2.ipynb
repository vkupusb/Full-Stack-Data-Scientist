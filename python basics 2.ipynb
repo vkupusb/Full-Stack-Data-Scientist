{
 "cells": [
  {
   "cell_type": "code",
   "execution_count": 1,
   "id": "5f888778",
   "metadata": {},
   "outputs": [],
   "source": [
    "%config IPCompleter.greedy=True"
   ]
  },
  {
   "cell_type": "code",
   "execution_count": 2,
   "id": "37cdcb97",
   "metadata": {},
   "outputs": [
    {
     "name": "stdout",
     "output_type": "stream",
     "text": [
      "x is pastive number\n",
      "hi\n"
     ]
    }
   ],
   "source": [
    "#conditional statement\n",
    "x = 2\n",
    "if x > 0:\n",
    "    print( \"x is pastive number\");print(\"hi\")\n",
    "else:\n",
    "    print(\"x is negative number\");print(\"hi\")"
   ]
  },
  {
   "cell_type": "markdown",
   "id": "af5bda16",
   "metadata": {},
   "source": [
    "Multi line statements: \\ , (),[] , {}"
   ]
  },
  {
   "cell_type": "code",
   "execution_count": 3,
   "id": "45046c4e",
   "metadata": {},
   "outputs": [
    {
     "name": "stdout",
     "output_type": "stream",
     "text": [
      "55\n"
     ]
    }
   ],
   "source": [
    "s = 1+2+3+4+5 \\\n",
    "    +6+7+8+9+10\n",
    "print(s)"
   ]
  },
  {
   "cell_type": "code",
   "execution_count": 4,
   "id": "6348c4ab",
   "metadata": {},
   "outputs": [
    {
     "name": "stdout",
     "output_type": "stream",
     "text": [
      "55\n"
     ]
    }
   ],
   "source": [
    "s= (1+2+3+4+5\n",
    "   +6+7+8+9+10)\n",
    "print(s)"
   ]
  },
  {
   "cell_type": "code",
   "execution_count": 5,
   "id": "6fec5c46",
   "metadata": {},
   "outputs": [
    {
     "name": "stdout",
     "output_type": "stream",
     "text": [
      "[1, 2, 3, 4, 5, 6, 7, 8, 9, 10]\n"
     ]
    }
   ],
   "source": [
    "s=[1,2,3,4,5\n",
    "  ,6,7,8,9,10]\n",
    "print(s)"
   ]
  },
  {
   "cell_type": "code",
   "execution_count": null,
   "id": "1d5ace84",
   "metadata": {},
   "outputs": [],
   "source": [
    "#read input from user\n",
    "x = int(input(\"Please enter a number : \"))\n",
    "print(x)"
   ]
  },
  {
   "cell_type": "code",
   "execution_count": null,
   "id": "049a6458",
   "metadata": {},
   "outputs": [],
   "source": [
    "#if statment\n",
    "if x > 0:\n",
    "    print(\"X is postive number\")"
   ]
  },
  {
   "cell_type": "code",
   "execution_count": null,
   "id": "be27dd6e",
   "metadata": {},
   "outputs": [],
   "source": [
    "#if else statement\n",
    "if x > 0:\n",
    "    print(\"X is +ve number\")\n",
    "else:\n",
    "    print(\"X is -ve number\")"
   ]
  },
  {
   "cell_type": "code",
   "execution_count": null,
   "id": "405a2826",
   "metadata": {},
   "outputs": [],
   "source": [
    "#if elif else statement\n",
    "if x < 0:\n",
    "    x = 0\n",
    "    print(\"X is -ve and changed to zero\")\n",
    "elif x == 0:\n",
    "    print( \"X is zero\")\n",
    "elif x == 1:\n",
    "    print(\"X is one\")\n",
    "else:\n",
    "    print(\"X is more value\")\n",
    "    "
   ]
  },
  {
   "cell_type": "code",
   "execution_count": null,
   "id": "2d22e887",
   "metadata": {},
   "outputs": [],
   "source": [
    "#for loop\n",
    "y = [1,2,3,4,5,6,7,8]\n",
    "for value in y:\n",
    "    print(value)\n"
   ]
  },
  {
   "cell_type": "code",
   "execution_count": null,
   "id": "8dd1dfbe",
   "metadata": {},
   "outputs": [],
   "source": [
    "#for loop for string\n",
    "name = \"Vishvanathan Kuppusamy\"\n",
    "for char in name:\n",
    "    print(char)"
   ]
  },
  {
   "cell_type": "code",
   "execution_count": null,
   "id": "6de19121",
   "metadata": {},
   "outputs": [],
   "source": [
    "#create sample collection\n",
    "users = {'a':\"active\",'b':\"inactive\",'c':\"active\",\n",
    "         'd':\"inactive\",'e':\"active\"}\n",
    "\n",
    "active_users = {}\n",
    "for user,value in users.copy().items():\n",
    "    if value == \"inactive\":\n",
    "        del users[user]\n",
    "    \n",
    "    if value == \"active\":\n",
    "        active_users[user] = value\n",
    "        \n",
    "print(users)\n",
    "print(active_users)\n"
   ]
  },
  {
   "cell_type": "code",
   "execution_count": null,
   "id": "e15cea51",
   "metadata": {},
   "outputs": [],
   "source": [
    "#tuple\n",
    "my_tuple = {1,2,3,4,5}\n",
    "print(type(my_tuple),my_tuple)"
   ]
  },
  {
   "cell_type": "code",
   "execution_count": null,
   "id": "e99401b4",
   "metadata": {},
   "outputs": [],
   "source": [
    "#create list using range\n",
    "my_list = list(range(0,9))\n",
    "print(my_list)"
   ]
  },
  {
   "cell_type": "code",
   "execution_count": null,
   "id": "96b7aef9",
   "metadata": {},
   "outputs": [],
   "source": [
    "#create list using range with step 3\n",
    "my_list = list(range(0,9,3))\n",
    "print(my_list)"
   ]
  },
  {
   "cell_type": "code",
   "execution_count": null,
   "id": "05301d1d",
   "metadata": {},
   "outputs": [],
   "source": [
    "#create list using range with negative step\n",
    "my_list = list(range(-10,-100,-2))\n",
    "print(my_list)"
   ]
  },
  {
   "cell_type": "code",
   "execution_count": null,
   "id": "0ba7c64d",
   "metadata": {},
   "outputs": [],
   "source": [
    "#create tuple using range with negative step\n",
    "my_list = tuple(range(-100,-10,2))\n",
    "print(my_list)"
   ]
  },
  {
   "cell_type": "code",
   "execution_count": null,
   "id": "6a4251b5",
   "metadata": {},
   "outputs": [],
   "source": [
    "my_list[0]= 100"
   ]
  },
  {
   "cell_type": "code",
   "execution_count": null,
   "id": "f632d37b",
   "metadata": {},
   "outputs": [],
   "source": [
    "#\n",
    "for i  in range(len(my_list)):\n",
    "    print(i, my_list[i])"
   ]
  },
  {
   "cell_type": "code",
   "execution_count": null,
   "id": "1078c443",
   "metadata": {},
   "outputs": [],
   "source": [
    "#set\n",
    "my_set = {}\n",
    "print(type(my_set))"
   ]
  },
  {
   "cell_type": "code",
   "execution_count": null,
   "id": "300dde51",
   "metadata": {},
   "outputs": [],
   "source": [
    "my_set= set(my_list)\n",
    "print(type(my_set))"
   ]
  },
  {
   "cell_type": "code",
   "execution_count": null,
   "id": "a068caf5",
   "metadata": {},
   "outputs": [],
   "source": [
    "print(my_set)"
   ]
  },
  {
   "cell_type": "code",
   "execution_count": null,
   "id": "fe342b90",
   "metadata": {},
   "outputs": [],
   "source": [
    "print(sum(range(0,200,5)))"
   ]
  },
  {
   "cell_type": "code",
   "execution_count": null,
   "id": "8b23de16",
   "metadata": {},
   "outputs": [],
   "source": [
    "for n in range(2,10):\n",
    "    for x in range(2,n):\n",
    "        if n % x == 0:\n",
    "            print(n,'equals', x, '*', n//x)\n",
    "            break;\n",
    "    else:\n",
    "        print(n,\" is a prime number\")"
   ]
  },
  {
   "cell_type": "code",
   "execution_count": null,
   "id": "06edaed7",
   "metadata": {},
   "outputs": [],
   "source": [
    "#find even or odd number\n",
    "\n",
    "while True:\n",
    "    x = input(\"Enter whole number : \")\n",
    "    if x != 'C'  x !='c':\n",
    "        num = int(x)\n",
    "    if num % 2 == 0:\n",
    "        print(\"Found even number : \",num)\n",
    "    elif x == 'c' or x == 'C':\n",
    "        print(\"clsoing...\")\n",
    "        break\n",
    "    else:\n",
    "        print(\"Found odd number\", num)\n",
    "        \n",
    "        "
   ]
  },
  {
   "cell_type": "code",
   "execution_count": null,
   "id": "5434bfb0",
   "metadata": {},
   "outputs": [],
   "source": [
    "ad ::= x\n",
    "print(ad)"
   ]
  },
  {
   "cell_type": "code",
   "execution_count": null,
   "id": "449a3a94",
   "metadata": {},
   "outputs": [],
   "source": [
    "#find prime number\n",
    "i = -1\n",
    "for i in range(2,2):\n",
    "    print(i)\n",
    "else:\n",
    "    print(\"Else part : \", i)"
   ]
  },
  {
   "cell_type": "code",
   "execution_count": null,
   "id": "aa190822",
   "metadata": {},
   "outputs": [],
   "source": [
    "#find even and odd number\n",
    "for num in range(0,20):\n",
    "    if num % 2 == 0:\n",
    "        print(\"Found an even number : \",num)\n",
    "        continue\n",
    "    print(\"Found an odd number : \", num)\n",
    "else:\n",
    "    print(\"Not able to find any number\")"
   ]
  },
  {
   "cell_type": "code",
   "execution_count": null,
   "id": "37f035ca",
   "metadata": {},
   "outputs": [],
   "source": [
    "while True:\n",
    "    pass"
   ]
  },
  {
   "cell_type": "code",
   "execution_count": null,
   "id": "e0ca3730",
   "metadata": {},
   "outputs": [],
   "source": [
    "#match statement with class varaibales\n",
    "class Point:\n",
    "    x: int\n",
    "    y: int\n",
    "        \n",
    "    def __init__(self):\n",
    "        self.x = 0\n",
    "        self.y = 0\n",
    "    \n",
    "    def __init__(self,x,y):\n",
    "        self.x = x\n",
    "        self.y = y\n",
    "\n",
    "    def where_is(point):\n",
    "        match point:\n",
    "            case Point(x=0,y=0):\n",
    "                print(f\"Origin\")\n",
    "            case Point(x=0,y=y):\n",
    "                print(f\"Y={y}\")\n",
    "            case Point(x=x,y=0):\n",
    "                print(f\"X={x}\")\n",
    "            case Point():\n",
    "                print(\"Somewhere else\")\n",
    "            case _:\n",
    "                print(\"Not a point\")\n",
    "my_point = Point(0,1)\n",
    "\n",
    "my_point1 = my_point\n",
    "my_point.where_is()"
   ]
  },
  {
   "cell_type": "code",
   "execution_count": null,
   "id": "ffd01ae3",
   "metadata": {},
   "outputs": [],
   "source": [
    "class Dog:\n",
    "    kind = \"canine\"\n",
    "    \n",
    "    def __init__(self,name):\n",
    "        self.name = name\n",
    "d = Dog(\"Fido\")\n",
    "e = Dog('Buddy')\n",
    "\n",
    "print(f\"{d.kind}, {e.kind},{d.name},{e.name}\")\n",
    "\n",
    "d.is_byte = \"yes\"\n",
    "\n",
    "print(d.is_byte)"
   ]
  },
  {
   "cell_type": "code",
   "execution_count": null,
   "id": "404a01c8",
   "metadata": {},
   "outputs": [],
   "source": [
    "import keyword\n",
    "\n",
    "print(keyword.kwlist)"
   ]
  },
  {
   "cell_type": "code",
   "execution_count": null,
   "id": "9c89e1c9",
   "metadata": {},
   "outputs": [],
   "source": [
    "from math import sqrt,ceil\n",
    "\n",
    "print(sqrt(25))\n",
    "print(ceil(3.5))"
   ]
  },
  {
   "cell_type": "code",
   "execution_count": null,
   "id": "ada8524c",
   "metadata": {},
   "outputs": [],
   "source": [
    "Class = 10"
   ]
  },
  {
   "cell_type": "code",
   "execution_count": null,
   "id": "1d9715e8",
   "metadata": {},
   "outputs": [],
   "source": [
    "def add_numbers(num1 = 0,num2 = 0):\n",
    "    return num1+num2\n",
    "print(add_numbers())\n",
    "print(add_numbers(num2 = 1,num1 = 2))"
   ]
  },
  {
   "cell_type": "code",
   "execution_count": null,
   "id": "d264c945",
   "metadata": {},
   "outputs": [],
   "source": [
    "#arbitary argumenst\n",
    "def find_sum(*numbers):\n",
    "    result = 0\n",
    "    try:\n",
    "        \n",
    "        for num in numbers:\n",
    "            result = result + num\n",
    "    except TypeError:\n",
    "        print(\" found not integer value\")\n",
    "    return result\n",
    "\n",
    "find_sum(1,2,3,4,\"vishva\")"
   ]
  },
  {
   "cell_type": "code",
   "execution_count": null,
   "id": "e41892a7",
   "metadata": {},
   "outputs": [],
   "source": [
    "#recursive funtion\n",
    "def factorial(num):\n",
    "    if num == 1:\n",
    "        return 1\n",
    "    else:\n",
    "        return (num * factorial(num - 1))\n",
    "\n",
    "num = 6\n",
    "print(f\"The factorial of {num} is {factorial(num)}\")"
   ]
  },
  {
   "cell_type": "code",
   "execution_count": null,
   "id": "f06fe037",
   "metadata": {},
   "outputs": [],
   "source": [
    "#lambda function\n",
    "greet = lambda : print(\"Hello world\")\n",
    "greet()"
   ]
  },
  {
   "cell_type": "code",
   "execution_count": null,
   "id": "9d6c5cb1",
   "metadata": {},
   "outputs": [],
   "source": [
    "#lambda function with arguments\n",
    "greet = lambda x,y : print(\"Hello world => \", x+y)\n",
    "greet(10,20)"
   ]
  },
  {
   "cell_type": "code",
   "execution_count": null,
   "id": "ec24c48f",
   "metadata": {},
   "outputs": [],
   "source": [
    "s = set()\n",
    "s.add(10)\n",
    "s.add(5)\n",
    "s.add(20)\n",
    "s.add(1)\n",
    "s.add(6)\n",
    "s.add(15)\n",
    "\n",
    "print(s)"
   ]
  },
  {
   "cell_type": "code",
   "execution_count": null,
   "id": "6160dadd",
   "metadata": {},
   "outputs": [],
   "source": [
    "s.pop()"
   ]
  },
  {
   "cell_type": "code",
   "execution_count": null,
   "id": "97399ba7",
   "metadata": {},
   "outputs": [],
   "source": [
    "list(s)[::]"
   ]
  },
  {
   "cell_type": "code",
   "execution_count": null,
   "id": "884bb4ff",
   "metadata": {},
   "outputs": [],
   "source": [
    "s1 = {1,3,5,6,8,9,12,15}"
   ]
  },
  {
   "cell_type": "code",
   "execution_count": null,
   "id": "8db2bfc2",
   "metadata": {},
   "outputs": [],
   "source": [
    "s.difference(s1)"
   ]
  },
  {
   "cell_type": "code",
   "execution_count": null,
   "id": "e4671f52",
   "metadata": {},
   "outputs": [],
   "source": [
    "s.intersection(s1)"
   ]
  },
  {
   "cell_type": "code",
   "execution_count": null,
   "id": "54797b2e",
   "metadata": {},
   "outputs": [],
   "source": [
    "dir(math)"
   ]
  },
  {
   "cell_type": "code",
   "execution_count": null,
   "id": "da41d3d3",
   "metadata": {},
   "outputs": [],
   "source": [
    "math.__name__\n"
   ]
  },
  {
   "cell_type": "code",
   "execution_count": null,
   "id": "fef9d1f6",
   "metadata": {},
   "outputs": [],
   "source": [
    "math.__doc__"
   ]
  },
  {
   "cell_type": "code",
   "execution_count": null,
   "id": "c231ed84",
   "metadata": {},
   "outputs": [],
   "source": [
    "math.__loader__"
   ]
  },
  {
   "cell_type": "code",
   "execution_count": null,
   "id": "3955a035",
   "metadata": {},
   "outputs": [],
   "source": [
    "squres = []\n",
    "squres = list(map(lambda x: x**2, range(10)))\n",
    "print(squres)"
   ]
  },
  {
   "cell_type": "code",
   "execution_count": null,
   "id": "01de4ffb",
   "metadata": {},
   "outputs": [],
   "source": [
    "result = list(map(lambda x: x**2, range(10)))\n",
    "print(result)"
   ]
  },
  {
   "cell_type": "code",
   "execution_count": null,
   "id": "ad41aaf5",
   "metadata": {},
   "outputs": [],
   "source": [
    "squres = [x**2 for x in range(10)]\n",
    "print(squres)"
   ]
  },
  {
   "cell_type": "code",
   "execution_count": null,
   "id": "b30c3a12",
   "metadata": {},
   "outputs": [],
   "source": [
    "[ x+y for x in [1,2,3] for y in [3,1,4] if x != y]"
   ]
  },
  {
   "cell_type": "code",
   "execution_count": null,
   "id": "7f57887b",
   "metadata": {},
   "outputs": [],
   "source": [
    "matrix = [\n",
    "    [1,2,3,4],\n",
    "    [5,6,7,8],\n",
    "    [9,10,11,12]\n",
    "]"
   ]
  },
  {
   "cell_type": "code",
   "execution_count": null,
   "id": "dab75eb8",
   "metadata": {},
   "outputs": [],
   "source": [
    "[row[i] for row in matrix for i in range(4)]"
   ]
  },
  {
   "cell_type": "code",
   "execution_count": 1,
   "id": "b346f392",
   "metadata": {},
   "outputs": [
    {
     "name": "stdout",
     "output_type": "stream",
     "text": [
      "Enter the 1st number : 10\n",
      "Enter the 2nd number : 30\n",
      "Enter the 3rd number : 21\n",
      "The second number is largest number :30\n"
     ]
    }
   ],
   "source": [
    "#find the largest number\n",
    "num1 = input(\"Enter the 1st number : \")\n",
    "num2 = input(\"Enter the 2nd number : \")\n",
    "num3 = input(\"Enter the 3rd number : \")\n",
    "if (num1 > num2) and (num1 > num3):\n",
    "    print(f\"The first number is largest number :{num1} \")\n",
    "elif (num2 > num1) and (num2 > num3):\n",
    "    print(f\"The second number is largest number :{num2}\")\n",
    "else:\n",
    "    print(f'The third number is largest number : {num3}')\n",
    "    \n"
   ]
  },
  {
   "cell_type": "code",
   "execution_count": 2,
   "id": "50f8fe26",
   "metadata": {},
   "outputs": [
    {
     "name": "stdout",
     "output_type": "stream",
     "text": [
      "Enter the 1st number : 3.5\n",
      "Enter the 2nd number : 8.1\n",
      "Enter the 3rd number : 8.15\n",
      "The third number is largest number : 8.15\n"
     ]
    }
   ],
   "source": [
    "#find the largest number\n",
    "num1 = float(input(\"Enter the 1st number : \"))\n",
    "num2 = float(input(\"Enter the 2nd number : \"))\n",
    "num3 = float(input(\"Enter the 3rd number : \"))\n",
    "if (num1 > num2) and (num1 > num3):\n",
    "    print(f\"The first number is largest number :{num1} \")\n",
    "elif (num2 > num1) and (num2 > num3):\n",
    "    print(f\"The second number is largest number :{num2}\")\n",
    "else:\n",
    "    print(f'The third number is largest number : {num3}')"
   ]
  },
  {
   "cell_type": "code",
   "execution_count": 8,
   "id": "4e0d9d87",
   "metadata": {},
   "outputs": [
    {
     "name": "stdout",
     "output_type": "stream",
     "text": [
      "Enter your choice (add/sub/div/mul)exit\n",
      "enter the 1st number : 20\n",
      "enter the 2nd number : 10\n",
      "wrong choice\n"
     ]
    }
   ],
   "source": [
    "#calculator\n",
    "choice = input(\"Enter your choice (add/sub/div/mul)\")\n",
    "\n",
    "num1 = int(input(\"enter the 1st number : \"))\n",
    "num2 = int(input(\"enter the 2nd number : \"))\n",
    "if choice == \"add\":\n",
    "    print(f\"The sum of num1 and num2 is {num1+num2}\")\n",
    "elif choice == \"sub\":\n",
    "    print(f\"The difference of num1 and num2 is {num1-num2}\")\n",
    "elif choice == \"div\":\n",
    "    print(f\"The division of num1 and num2 is {num1/num2}\")\n",
    "elif choice == \"mul\":\n",
    "    print(f\"The multifilication of num1 and num2 is {num1*num2}\")\n",
    "else:\n",
    "    print(\"wrong choice\")\n",
    "    \n"
   ]
  },
  {
   "cell_type": "code",
   "execution_count": 10,
   "id": "d91fdcad",
   "metadata": {},
   "outputs": [
    {
     "name": "stdout",
     "output_type": "stream",
     "text": [
      "enter the designation (Executive/Manager/Senior Manager)Senior Manager\n",
      "The salary range for senior manager is 50000 - 74500\n"
     ]
    }
   ],
   "source": [
    "#example \n",
    "designation = input(\"enter the designation (Executive/Manager/Senior Manager)\")\n",
    "\n",
    "if designation == \"Executive\":\n",
    "    print(\"The salary range for executive is 10000 - 14500\")\n",
    "elif designation == \"Manager\":\n",
    "    print(\"The salary range for Manager is 20000 - 34500\")\n",
    "elif designation == \"Senior Manager\":\n",
    "    print(\"The salary range for senior manager is 50000 - 74500\")\n",
    "else:\n",
    "    print(\"Wrong choice\")"
   ]
  },
  {
   "cell_type": "code",
   "execution_count": 12,
   "id": "269a013a",
   "metadata": {},
   "outputs": [
    {
     "name": "stdout",
     "output_type": "stream",
     "text": [
      "[0, 1, 2, 3, 4, 5, 6, 7, 8, 9]\n"
     ]
    }
   ],
   "source": [
    "#for loop with default range function (end)\n",
    "my_list = list()\n",
    "for i in range(10):\n",
    "    my_list.append(i)\n",
    "print(my_list)"
   ]
  },
  {
   "cell_type": "code",
   "execution_count": 13,
   "id": "c4e229b3",
   "metadata": {},
   "outputs": [
    {
     "name": "stdout",
     "output_type": "stream",
     "text": [
      "[1, 2, 3, 4, 5, 6, 7, 8, 9]\n"
     ]
    }
   ],
   "source": [
    "#for loop with default range function (start,end)\n",
    "my_list = list()\n",
    "for i in range(1,10):\n",
    "    my_list.append(i)\n",
    "print(my_list)"
   ]
  },
  {
   "cell_type": "code",
   "execution_count": 14,
   "id": "70535e26",
   "metadata": {},
   "outputs": [
    {
     "name": "stdout",
     "output_type": "stream",
     "text": [
      "[1, 8, 15, 22, 29, 36, 43, 50, 57, 64, 71, 78, 85, 92, 99]\n"
     ]
    }
   ],
   "source": [
    "#for loop with default range function (start,end,step)\n",
    "my_list = list()\n",
    "for i in range(1,100,7):\n",
    "    my_list.append(i)\n",
    "print(my_list)"
   ]
  },
  {
   "cell_type": "code",
   "execution_count": 15,
   "id": "b93e6158",
   "metadata": {},
   "outputs": [
    {
     "name": "stdout",
     "output_type": "stream",
     "text": [
      "apple\n",
      "banana\n",
      "grapes\n"
     ]
    }
   ],
   "source": [
    "#for loop in the list\n",
    "fruit_list = ['apple','banana','grapes']\n",
    "for fruit in fruit_list:\n",
    "    print(fruit)"
   ]
  },
  {
   "cell_type": "code",
   "execution_count": 16,
   "id": "209a7437",
   "metadata": {},
   "outputs": [
    {
     "name": "stdout",
     "output_type": "stream",
     "text": [
      "apple\n",
      "banana\n",
      "grapes\n"
     ]
    }
   ],
   "source": [
    "#for loop in the tuple\n",
    "fruit_tuple = ('apple','banana','grapes')\n",
    "for fruit in fruit_tuple:\n",
    "    print(fruit)"
   ]
  },
  {
   "cell_type": "code",
   "execution_count": 17,
   "id": "c7d3cf5d",
   "metadata": {},
   "outputs": [],
   "source": [
    "#for loop in set\n",
    "my_set = set()\n",
    "for i in range(1,100,7):\n",
    "    my_set.add(i)\n"
   ]
  },
  {
   "cell_type": "code",
   "execution_count": 19,
   "id": "db9d25b9",
   "metadata": {},
   "outputs": [
    {
     "name": "stdout",
     "output_type": "stream",
     "text": [
      "64\n",
      "1\n",
      "99\n",
      "36\n",
      "71\n",
      "8\n",
      "43\n",
      "78\n",
      "15\n",
      "50\n",
      "85\n",
      "22\n",
      "57\n",
      "92\n",
      "29\n"
     ]
    }
   ],
   "source": [
    "\n",
    "for i in list(my_set):\n",
    "    print(i)"
   ]
  },
  {
   "cell_type": "code",
   "execution_count": 21,
   "id": "3cef2a55",
   "metadata": {},
   "outputs": [
    {
     "name": "stdout",
     "output_type": "stream",
     "text": [
      "Rupee is the currency of India \n",
      "US Dollar is the currency of US \n",
      "Bound is the currency of UK \n",
      "Yen is the currency of Japan \n",
      "Singapore Dollar is the currency of Singapore \n"
     ]
    }
   ],
   "source": [
    "#for loop with dictionary\n",
    "currency = {\"India\":\"Rupee\",\"US\":\"US Dollar\", \"UK\":\"Bound\",\n",
    "            \"Japan\":\"Yen\", \"Singapore\":\"Singapore Dollar\"}\n",
    "\n",
    "for key,value in currency.items():\n",
    "    print(f\"{value} is the currency of {key} \")"
   ]
  },
  {
   "cell_type": "code",
   "execution_count": 24,
   "id": "00544b70",
   "metadata": {},
   "outputs": [
    {
     "name": "stdout",
     "output_type": "stream",
     "text": [
      "* \n",
      "* * \n",
      "* * * \n",
      "* * * * \n",
      "* * * * * \n"
     ]
    }
   ],
   "source": [
    "for i in range(5):\n",
    "    for j in range(i+1):\n",
    "        print(\"*\",end=\" \")\n",
    "    print()"
   ]
  },
  {
   "cell_type": "code",
   "execution_count": 30,
   "id": "d3d09c72",
   "metadata": {},
   "outputs": [
    {
     "name": "stdout",
     "output_type": "stream",
     "text": [
      "         * \n",
      "        * * \n",
      "       * * * \n",
      "      * * * * \n",
      "     * * * * * \n",
      "    * * * * * * \n",
      "   * * * * * * * \n",
      "  * * * * * * * * \n",
      " * * * * * * * * * \n",
      "* * * * * * * * * * \n"
     ]
    }
   ],
   "source": [
    "n = 10\n",
    "k =  n - 1\n",
    "for i in range(n):\n",
    "    for j in range(k):\n",
    "        print(end=\" \")\n",
    "    k -= 1\n",
    "    for j in range(i+1):\n",
    "        print(\"* \",end=\"\")\n",
    "    print()"
   ]
  },
  {
   "cell_type": "code",
   "execution_count": 26,
   "id": "0165a01b",
   "metadata": {},
   "outputs": [
    {
     "name": "stdout",
     "output_type": "stream",
     "text": [
      "* \n",
      "* * \n",
      "* * * \n",
      "* * * * \n",
      "* * * * * \n"
     ]
    }
   ],
   "source": [
    "def pyramid_pattern(n):\n",
    "    if n == 0:\n",
    "        return\n",
    "    else:\n",
    "        pyramid_pattern(n-1)\n",
    "        print(\"* \"*n)\n",
    "n = 5\n",
    "pyramid_pattern(n)"
   ]
  },
  {
   "cell_type": "code",
   "execution_count": null,
   "id": "27c205b8",
   "metadata": {},
   "outputs": [],
   "source": []
  },
  {
   "cell_type": "code",
   "execution_count": null,
   "id": "5f501896",
   "metadata": {},
   "outputs": [],
   "source": []
  },
  {
   "cell_type": "code",
   "execution_count": null,
   "id": "4bb0af9e",
   "metadata": {},
   "outputs": [],
   "source": []
  },
  {
   "cell_type": "code",
   "execution_count": null,
   "id": "89537c67",
   "metadata": {},
   "outputs": [],
   "source": []
  },
  {
   "cell_type": "code",
   "execution_count": null,
   "id": "79ad1116",
   "metadata": {},
   "outputs": [],
   "source": []
  },
  {
   "cell_type": "code",
   "execution_count": null,
   "id": "3c8a9ed3",
   "metadata": {},
   "outputs": [],
   "source": []
  },
  {
   "cell_type": "code",
   "execution_count": null,
   "id": "8b2e7d3a",
   "metadata": {},
   "outputs": [],
   "source": []
  },
  {
   "cell_type": "code",
   "execution_count": null,
   "id": "fa1a38a6",
   "metadata": {},
   "outputs": [],
   "source": []
  },
  {
   "cell_type": "code",
   "execution_count": null,
   "id": "264d41d7",
   "metadata": {},
   "outputs": [],
   "source": []
  },
  {
   "cell_type": "code",
   "execution_count": null,
   "id": "d5b9176b",
   "metadata": {},
   "outputs": [],
   "source": []
  },
  {
   "cell_type": "code",
   "execution_count": null,
   "id": "4b0286e2",
   "metadata": {},
   "outputs": [],
   "source": []
  },
  {
   "cell_type": "code",
   "execution_count": null,
   "id": "88fd4538",
   "metadata": {},
   "outputs": [],
   "source": []
  },
  {
   "cell_type": "code",
   "execution_count": null,
   "id": "46cc4583",
   "metadata": {},
   "outputs": [],
   "source": []
  },
  {
   "cell_type": "code",
   "execution_count": null,
   "id": "e530cf60",
   "metadata": {},
   "outputs": [],
   "source": []
  }
 ],
 "metadata": {
  "kernelspec": {
   "display_name": "Python 3 (ipykernel)",
   "language": "python",
   "name": "python3"
  },
  "language_info": {
   "codemirror_mode": {
    "name": "ipython",
    "version": 3
   },
   "file_extension": ".py",
   "mimetype": "text/x-python",
   "name": "python",
   "nbconvert_exporter": "python",
   "pygments_lexer": "ipython3",
   "version": "3.10.9"
  }
 },
 "nbformat": 4,
 "nbformat_minor": 5
}
