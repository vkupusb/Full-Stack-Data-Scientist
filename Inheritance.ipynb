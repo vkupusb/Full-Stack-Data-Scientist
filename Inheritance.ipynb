{
 "cells": [
  {
   "cell_type": "code",
   "execution_count": 4,
   "id": "428cab3a",
   "metadata": {},
   "outputs": [
    {
     "name": "stdout",
     "output_type": "stream",
     "text": [
      "Name : Vishva, Age : 42, Sex:Male\n",
      "Grade : A\n",
      "Name : Krish, Age : 34, Sex:Male\n",
      "Subject is : AI\n"
     ]
    }
   ],
   "source": [
    "class Person:\n",
    "    \n",
    "    def __init__(self,name,age,sex):\n",
    "        self.name = name\n",
    "        self.age = age\n",
    "        self.sex = sex\n",
    "        \n",
    "    def display(self):\n",
    "        print(f'Name : {self.name}, Age : {self.age}, Sex:{self.sex}')\n",
    "        \n",
    "        \n",
    "\n",
    "class Student(Person):\n",
    "    \n",
    "    def __init__(self,name,age,sex,grade):\n",
    "        super().__init__(name,age,sex)\n",
    "        self.grade = grade\n",
    "        \n",
    "    def display(self):\n",
    "        super().display()\n",
    "        print(f'Grade : {self.grade}')\n",
    "    \n",
    "    \n",
    "class Teacher(Person):\n",
    "    \n",
    "    def __init__(self,name,age,sex,subject):\n",
    "        super().__init__(name,age,sex)\n",
    "        self.subject = subject\n",
    "        \n",
    "    def display(self):\n",
    "        super().display()\n",
    "        print(f'Subject is : {self.subject}')\n",
    "        \n",
    "\n",
    "student1 = Student(\"Vishva\",42,\"Male\",\"A\")\n",
    "\n",
    "teacher1 = Teacher(\"Krish\",34,\"Male\",\"AI\")\n",
    "\n",
    "student1.display()\n",
    "\n",
    "teacher1.display()\n",
    "        \n",
    "        "
   ]
  },
  {
   "cell_type": "code",
   "execution_count": 6,
   "id": "78f4394f",
   "metadata": {},
   "outputs": [
    {
     "name": "stdout",
     "output_type": "stream",
     "text": [
      "the BMW EV is ready to go\n",
      "The BMW XT is using Petrol fuel\n"
     ]
    }
   ],
   "source": [
    "class Vehicle:\n",
    "    \n",
    "    def __init__(self,brand):\n",
    "        self.brand = brand\n",
    "        \n",
    "    def start(self):\n",
    "        print(f'The {self.brand} is starting')\n",
    "        \n",
    "class Bicycle(Vehicle):\n",
    "    \n",
    "    def __init__(self,brand,model):\n",
    "        super().__init__(brand)\n",
    "        self.model = model\n",
    "        \n",
    "    def start(self):\n",
    "        print(f'the {self.brand} {self.model} is ready to go')\n",
    "        \n",
    "class Car(Vehicle):\n",
    "    \n",
    "    def __init__(self,brand,model,fuel_type):\n",
    "        super().__init__(brand)\n",
    "        self.model = model\n",
    "        self.fuel_type = fuel_type\n",
    "        \n",
    "    def start(self):\n",
    "        print(f'The {self.brand} {self.model} is using {self.fuel_type} fuel')\n",
    "        \n",
    "\n",
    "bicycle1 = Bicycle(\"BMW\",\"EV\")\n",
    "\n",
    "bicycle1.start()\n",
    "\n",
    "car1 = Car(\"BMW\", \"XT\",\"Petrol\")\n",
    "car1.start()"
   ]
  },
  {
   "cell_type": "code",
   "execution_count": 8,
   "id": "175eafe8",
   "metadata": {},
   "outputs": [
    {
     "name": "stdout",
     "output_type": "stream",
     "text": [
      "the Johny is barks\n",
      "the Peter is meows\n"
     ]
    }
   ],
   "source": [
    "class Animal:\n",
    "    \n",
    "    def __init__(self,name):\n",
    "        self.name = name\n",
    "        \n",
    "    def sound(self):\n",
    "        pass\n",
    "    \n",
    "class Dog(Animal):\n",
    "    \n",
    "    def __init__(self,name):\n",
    "        super().__init__(name)\n",
    "        \n",
    "    def sound(self):\n",
    "        print(f'the {self.name} is barks')\n",
    "        \n",
    "class Cat(Animal):\n",
    "    \n",
    "    def __init__(self,name):\n",
    "        super().__init__(name)\n",
    "        \n",
    "    def sound(self):\n",
    "        print(f'the {self.name} is meows')\n",
    "        \n",
    "dog1 = Dog(\"Johny\")\n",
    "\n",
    "cat1  = Cat(\"Peter\")\n",
    "\n",
    "dog1.sound()\n",
    "\n",
    "cat1.sound()"
   ]
  },
  {
   "cell_type": "code",
   "execution_count": 15,
   "id": "ff2b7153",
   "metadata": {},
   "outputs": [
    {
     "name": "stdout",
     "output_type": "stream",
     "text": [
      "Name : Nikon and Type : DLSR\n",
      "Nikon has flash light True\n"
     ]
    }
   ],
   "source": [
    "class Camera:\n",
    "    \n",
    "    def __init__(self,name,type):\n",
    "        self.__name = name\n",
    "        self.__type = type\n",
    "        \n",
    "    def __display(self):\n",
    "        print(f'Name : {self.__name} and Type : {self.__type}')\n",
    "        \n",
    "    def display(self):\n",
    "        self.__display()\n",
    "        \n",
    "    def display(self,flash):\n",
    "        self.__display()\n",
    "        self.__flash = True\n",
    "        print(f'{self.__name} has flash light {self.__flash}')\n",
    "        \n",
    "        \n",
    "camera1 = Camera(\"Nikon\",\"DLSR\")\n",
    "camera1.display(True)\n",
    "        "
   ]
  },
  {
   "cell_type": "code",
   "execution_count": null,
   "id": "1b3b2c7e",
   "metadata": {},
   "outputs": [],
   "source": []
  },
  {
   "cell_type": "code",
   "execution_count": null,
   "id": "95d05d9e",
   "metadata": {},
   "outputs": [],
   "source": []
  },
  {
   "cell_type": "code",
   "execution_count": null,
   "id": "ed0a651d",
   "metadata": {},
   "outputs": [],
   "source": []
  },
  {
   "cell_type": "code",
   "execution_count": null,
   "id": "3a10f050",
   "metadata": {},
   "outputs": [],
   "source": []
  },
  {
   "cell_type": "code",
   "execution_count": null,
   "id": "34c26950",
   "metadata": {},
   "outputs": [],
   "source": []
  },
  {
   "cell_type": "code",
   "execution_count": null,
   "id": "5aad83e0",
   "metadata": {},
   "outputs": [],
   "source": []
  },
  {
   "cell_type": "code",
   "execution_count": null,
   "id": "756d4277",
   "metadata": {},
   "outputs": [],
   "source": []
  },
  {
   "cell_type": "code",
   "execution_count": null,
   "id": "7df827ab",
   "metadata": {},
   "outputs": [],
   "source": []
  }
 ],
 "metadata": {
  "kernelspec": {
   "display_name": "Python 3 (ipykernel)",
   "language": "python",
   "name": "python3"
  },
  "language_info": {
   "codemirror_mode": {
    "name": "ipython",
    "version": 3
   },
   "file_extension": ".py",
   "mimetype": "text/x-python",
   "name": "python",
   "nbconvert_exporter": "python",
   "pygments_lexer": "ipython3",
   "version": "3.10.9"
  }
 },
 "nbformat": 4,
 "nbformat_minor": 5
}
