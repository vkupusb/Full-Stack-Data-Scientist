{
 "cells": [
  {
   "cell_type": "code",
   "execution_count": 1,
   "id": "42d38ff4",
   "metadata": {},
   "outputs": [],
   "source": [
    "%config IPCompleter.greedy=True"
   ]
  },
  {
   "cell_type": "code",
   "execution_count": 2,
   "id": "6eb1d081",
   "metadata": {},
   "outputs": [
    {
     "name": "stdout",
     "output_type": "stream",
     "text": [
      "Hi all\n"
     ]
    }
   ],
   "source": [
    "#python funtions\n",
    "def display():\n",
    "    print(\"Hi all\")\n",
    "\n",
    "display()"
   ]
  },
  {
   "cell_type": "code",
   "execution_count": 10,
   "id": "8a2d0db7",
   "metadata": {},
   "outputs": [
    {
     "name": "stdout",
     "output_type": "stream",
     "text": [
      "vishva ...\n"
     ]
    }
   ],
   "source": [
    "def display(msg : str):\n",
    "    msg += \" updated.\"\n",
    "    return msg\n",
    "\n",
    "def display(msg : int):\n",
    "    print(msg)\n",
    "\n",
    "\n",
    "display(\"vishva ...\")"
   ]
  },
  {
   "cell_type": "code",
   "execution_count": 13,
   "id": "7e914955",
   "metadata": {},
   "outputs": [
    {
     "name": "stdout",
     "output_type": "stream",
     "text": [
      "\n",
      "    This function returns he sqrt of number\n",
      "    \n"
     ]
    },
    {
     "data": {
      "text/plain": [
       "10000"
      ]
     },
     "execution_count": 13,
     "metadata": {},
     "output_type": "execute_result"
    }
   ],
   "source": [
    "def square_value(num):\n",
    "    \"\"\"\n",
    "    This function returns he sqrt of number\n",
    "    \"\"\"\n",
    "    num = 100 #pass by vaue if reassigned \n",
    "    return num**2\n",
    "\n",
    "num = 10\n",
    "print(square_value.__doc__)\n",
    "square_value(num)"
   ]
  },
  {
   "cell_type": "code",
   "execution_count": 15,
   "id": "0300aea6",
   "metadata": {},
   "outputs": [
    {
     "name": "stdout",
     "output_type": "stream",
     "text": [
      "2 3\n",
      "2 3\n"
     ]
    }
   ],
   "source": [
    "#swap values\n",
    "def swap(x,y):\n",
    "    \"\"\"\n",
    "    Reference is broken because reassigned variables.\n",
    "    \"\"\"\n",
    "    temp = x\n",
    "    x = y\n",
    "    y = temp\n",
    "    \n",
    "x = 2\n",
    "y = 3\n",
    "print(x,y)\n",
    "swap(x,y)\n",
    "print(x,y)"
   ]
  },
  {
   "cell_type": "code",
   "execution_count": 17,
   "id": "f9e9a3d0",
   "metadata": {},
   "outputs": [
    {
     "name": "stdout",
     "output_type": "stream",
     "text": [
      "[1, 2, 3, 4, 5, 6]\n",
      "10\n",
      "15\n",
      "11\n",
      "30\n",
      "22\n"
     ]
    }
   ],
   "source": [
    "#varing number of arguments\n",
    "def arg_list(*argv):\n",
    "    for i in argv:\n",
    "        print(i)\n",
    "\n",
    "arg_list([1,2,3,4,5,6])\n",
    "arg_list(10,15,11,30,22)"
   ]
  },
  {
   "cell_type": "code",
   "execution_count": 24,
   "id": "77d9c998",
   "metadata": {},
   "outputs": [
    {
     "name": "stdout",
     "output_type": "stream",
     "text": [
      "Key is Name and its value is Vishva\n",
      "Key is Age and its value is 42\n",
      "Key is Gender and its value is Male\n"
     ]
    }
   ],
   "source": [
    "#varing number of keywords and values\n",
    "def key_values(**kwargs):\n",
    "    for key,value in kwargs.items():\n",
    "        print(f\"Key is {key} and its value is {value}\")\n",
    "\n",
    "#key_values({\"Name\":\"Vishva\",\"Age\":42,\"Gender\":\"Male\"})\n",
    "key_values(Name=\"Vishva\",Age=42,Gender=\"Male\")"
   ]
  },
  {
   "cell_type": "code",
   "execution_count": null,
   "id": "082b6e83",
   "metadata": {},
   "outputs": [],
   "source": []
  },
  {
   "cell_type": "code",
   "execution_count": null,
   "id": "d7e10767",
   "metadata": {},
   "outputs": [],
   "source": []
  },
  {
   "cell_type": "code",
   "execution_count": null,
   "id": "0d656d15",
   "metadata": {},
   "outputs": [],
   "source": []
  },
  {
   "cell_type": "code",
   "execution_count": null,
   "id": "b215584c",
   "metadata": {},
   "outputs": [],
   "source": []
  },
  {
   "cell_type": "code",
   "execution_count": null,
   "id": "dbf745bd",
   "metadata": {},
   "outputs": [],
   "source": []
  },
  {
   "cell_type": "code",
   "execution_count": null,
   "id": "55f436de",
   "metadata": {},
   "outputs": [],
   "source": []
  }
 ],
 "metadata": {
  "kernelspec": {
   "display_name": "Python 3 (ipykernel)",
   "language": "python",
   "name": "python3"
  },
  "language_info": {
   "codemirror_mode": {
    "name": "ipython",
    "version": 3
   },
   "file_extension": ".py",
   "mimetype": "text/x-python",
   "name": "python",
   "nbconvert_exporter": "python",
   "pygments_lexer": "ipython3",
   "version": "3.10.9"
  }
 },
 "nbformat": 4,
 "nbformat_minor": 5
}
