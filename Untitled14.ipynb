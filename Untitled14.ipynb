{
 "cells": [
  {
   "cell_type": "code",
   "execution_count": 1,
   "id": "broken-tyler",
   "metadata": {},
   "outputs": [
    {
     "data": {
      "text/plain": [
       "6"
      ]
     },
     "execution_count": 1,
     "metadata": {},
     "output_type": "execute_result"
    }
   ],
   "source": [
    "1+5"
   ]
  },
  {
   "cell_type": "code",
   "execution_count": 2,
   "id": "congressional-swift",
   "metadata": {},
   "outputs": [],
   "source": [
    "x = 123456789\n",
    "y = 1"
   ]
  },
  {
   "cell_type": "code",
   "execution_count": 3,
   "id": "under-proxy",
   "metadata": {},
   "outputs": [
    {
     "data": {
      "text/plain": [
       "123456790"
      ]
     },
     "execution_count": 3,
     "metadata": {},
     "output_type": "execute_result"
    }
   ],
   "source": [
    "x+y"
   ]
  },
  {
   "cell_type": "code",
   "execution_count": 4,
   "id": "devoted-trick",
   "metadata": {},
   "outputs": [
    {
     "data": {
      "text/plain": [
       "123456788"
      ]
     },
     "execution_count": 4,
     "metadata": {},
     "output_type": "execute_result"
    }
   ],
   "source": [
    "x-y"
   ]
  },
  {
   "cell_type": "code",
   "execution_count": 5,
   "id": "supposed-tenant",
   "metadata": {},
   "outputs": [],
   "source": [
    "c = (x - y) * 2"
   ]
  },
  {
   "cell_type": "code",
   "execution_count": 6,
   "id": "burning-welding",
   "metadata": {},
   "outputs": [
    {
     "data": {
      "text/plain": [
       "246913576"
      ]
     },
     "execution_count": 6,
     "metadata": {},
     "output_type": "execute_result"
    }
   ],
   "source": [
    "c"
   ]
  },
  {
   "cell_type": "code",
   "execution_count": null,
   "id": "proved-distance",
   "metadata": {},
   "outputs": [],
   "source": [
    "5/12\n"
   ]
  },
  {
   "cell_type": "code",
   "execution_count": 7,
   "id": "noble-keeping",
   "metadata": {},
   "outputs": [
    {
     "data": {
      "text/plain": [
       "133"
      ]
     },
     "execution_count": 7,
     "metadata": {},
     "output_type": "execute_result"
    }
   ],
   "source": [
    "44+89\n"
   ]
  },
  {
   "cell_type": "code",
   "execution_count": 8,
   "id": "elegant-energy",
   "metadata": {},
   "outputs": [],
   "source": [
    "x = 6089\n",
    "y = 8\n"
   ]
  },
  {
   "cell_type": "code",
   "execution_count": 9,
   "id": "nasty-square",
   "metadata": {},
   "outputs": [
    {
     "data": {
      "text/plain": [
       "6081"
      ]
     },
     "execution_count": 9,
     "metadata": {},
     "output_type": "execute_result"
    }
   ],
   "source": [
    "x - y\n"
   ]
  },
  {
   "cell_type": "code",
   "execution_count": 10,
   "id": "engaged-london",
   "metadata": {},
   "outputs": [
    {
     "data": {
      "text/plain": [
       "45"
      ]
     },
     "execution_count": 10,
     "metadata": {},
     "output_type": "execute_result"
    }
   ],
   "source": [
    "5*9\n"
   ]
  },
  {
   "cell_type": "code",
   "execution_count": 11,
   "id": "saved-petersburg",
   "metadata": {},
   "outputs": [
    {
     "data": {
      "text/plain": [
       "56"
      ]
     },
     "execution_count": 11,
     "metadata": {},
     "output_type": "execute_result"
    }
   ],
   "source": [
    "8*7"
   ]
  },
  {
   "cell_type": "code",
   "execution_count": 12,
   "id": "distributed-share",
   "metadata": {},
   "outputs": [
    {
     "data": {
      "text/plain": [
       "0.4166666666666667"
      ]
     },
     "execution_count": 12,
     "metadata": {},
     "output_type": "execute_result"
    }
   ],
   "source": [
    "5/12"
   ]
  },
  {
   "cell_type": "code",
   "execution_count": 13,
   "id": "superior-channel",
   "metadata": {},
   "outputs": [
    {
     "data": {
      "text/plain": [
       "78"
      ]
     },
     "execution_count": 13,
     "metadata": {},
     "output_type": "execute_result"
    }
   ],
   "source": [
    "56+22"
   ]
  },
  {
   "cell_type": "code",
   "execution_count": 14,
   "id": "basic-austin",
   "metadata": {},
   "outputs": [
    {
     "ename": "NameError",
     "evalue": "name 'oo' is not defined",
     "output_type": "error",
     "traceback": [
      "\u001b[1;31m-----------------------------\u001b[0m",
      "\u001b[1;31mNameError\u001b[0mTraceback (most recent call last)",
      "\u001b[1;32m<ipython-input-14-d23951d7b1c4>\u001b[0m in \u001b[0;36m<module>\u001b[1;34m\u001b[0m\n\u001b[1;32m----> 1\u001b[1;33m \u001b[1;36m00\u001b[0m \u001b[1;33m+\u001b[0m\u001b[0moo\u001b[0m\u001b[1;33m\u001b[0m\u001b[1;33m\u001b[0m\u001b[0m\n\u001b[0m",
      "\u001b[1;31mNameError\u001b[0m: name 'oo' is not defined"
     ]
    }
   ],
   "source": [
    "00 +oo"
   ]
  },
  {
   "cell_type": "code",
   "execution_count": 15,
   "id": "engaged-ready",
   "metadata": {},
   "outputs": [
    {
     "data": {
      "text/plain": [
       "67893556"
      ]
     },
     "execution_count": 15,
     "metadata": {},
     "output_type": "execute_result"
    }
   ],
   "source": [
    "67893457 + 99"
   ]
  },
  {
   "cell_type": "code",
   "execution_count": 16,
   "id": "working-nancy",
   "metadata": {},
   "outputs": [
    {
     "data": {
      "text/plain": [
       "18"
      ]
     },
     "execution_count": 16,
     "metadata": {},
     "output_type": "execute_result"
    }
   ],
   "source": [
    "9 + 9"
   ]
  },
  {
   "cell_type": "code",
   "execution_count": 17,
   "id": "classified-superintendent",
   "metadata": {},
   "outputs": [
    {
     "data": {
      "text/plain": [
       "20"
      ]
     },
     "execution_count": 17,
     "metadata": {},
     "output_type": "execute_result"
    }
   ],
   "source": [
    "10 + 10"
   ]
  },
  {
   "cell_type": "code",
   "execution_count": 18,
   "id": "urban-flavor",
   "metadata": {},
   "outputs": [
    {
     "data": {
      "text/plain": [
       "99999999999999999999999999999996666666666666666666666666444444444444451111110000000111111111111110"
      ]
     },
     "execution_count": 18,
     "metadata": {},
     "output_type": "execute_result"
    }
   ],
   "source": [
    "6666666666666777777777777777 + 99999999999999999999999999999996666666666666666666666666444444444444444444443333333333333333333333"
   ]
  },
  {
   "cell_type": "code",
   "execution_count": null,
   "id": "conventional-retirement",
   "metadata": {},
   "outputs": [],
   "source": [
    "79 "
   ]
  }
 ],
 "metadata": {
  "kernelspec": {
   "display_name": "Python 3",
   "language": "python",
   "name": "python3"
  },
  "language_info": {
   "codemirror_mode": {
    "name": "ipython",
    "version": 3
   },
   "file_extension": ".py",
   "mimetype": "text/x-python",
   "name": "python",
   "nbconvert_exporter": "python",
   "pygments_lexer": "ipython3",
   "version": "3.8.2"
  }
 },
 "nbformat": 4,
 "nbformat_minor": 5
}
