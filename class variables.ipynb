{
 "cells": [
  {
   "cell_type": "code",
   "execution_count": 23,
   "id": "a5afafba",
   "metadata": {},
   "outputs": [],
   "source": [
    "class Person:\n",
    "    company_name = \"TechM\"\n",
    "    \n",
    "    def __init__(self,firstname,lastname):\n",
    "        self.first_name = firstname\n",
    "        self.last_name = lastname\n",
    "        \n",
    "    @classmethod\n",
    "    def change_company(cls,company_name):\n",
    "        cls.company_name = company_name\n",
    "        \n",
    "    \n",
    "    def display(self):\n",
    "        print(f\"First name : {self.first_name}, Last name: {self.last_name}, Company: {self.company_name}\")\n",
    "\n",
    "    \n",
    "\n",
    "        "
   ]
  },
  {
   "cell_type": "code",
   "execution_count": 24,
   "id": "1f0e40f4",
   "metadata": {},
   "outputs": [],
   "source": [
    "person1 = Person(\"vishvanathan\",\"Kuppusamy\")"
   ]
  },
  {
   "cell_type": "code",
   "execution_count": 25,
   "id": "0bdbbe68",
   "metadata": {},
   "outputs": [
    {
     "name": "stdout",
     "output_type": "stream",
     "text": [
      "First name : vishvanathan, Last name: Kuppusamy, Company: TechM\n"
     ]
    }
   ],
   "source": [
    "person1.display()"
   ]
  },
  {
   "cell_type": "code",
   "execution_count": 26,
   "id": "666ebc5b",
   "metadata": {},
   "outputs": [],
   "source": [
    "person2 = Person(\"Vis\",\"kuppu\")"
   ]
  },
  {
   "cell_type": "code",
   "execution_count": 27,
   "id": "34263223",
   "metadata": {},
   "outputs": [
    {
     "name": "stdout",
     "output_type": "stream",
     "text": [
      "First name : Vis, Last name: kuppu, Company: TechM\n"
     ]
    }
   ],
   "source": [
    "person2.display()"
   ]
  },
  {
   "cell_type": "code",
   "execution_count": 28,
   "id": "a03effb5",
   "metadata": {},
   "outputs": [],
   "source": [
    "Person.change_company(\"PWSKILLS\")"
   ]
  },
  {
   "cell_type": "code",
   "execution_count": 29,
   "id": "6ee2c059",
   "metadata": {},
   "outputs": [
    {
     "name": "stdout",
     "output_type": "stream",
     "text": [
      "First name : vishvanathan, Last name: Kuppusamy, Company: PWSKILLS\n",
      "First name : Vis, Last name: kuppu, Company: PWSKILLS\n"
     ]
    }
   ],
   "source": [
    "person1.display()\n",
    "person2.display()"
   ]
  },
  {
   "cell_type": "code",
   "execution_count": 37,
   "id": "82a85e45",
   "metadata": {},
   "outputs": [],
   "source": [
    "class Car:\n",
    "    base_price = 10000\n",
    "    \n",
    "    def __init__(self,model,brand):\n",
    "        self.model = model\n",
    "        self.brand = brand\n",
    "        \n",
    "    def display_price(self):\n",
    "        print(\"the price is \",self.base_price)\n",
    "        \n",
    "    @classmethod\n",
    "    def update_base_price(cls,inflation):\n",
    "        cls.base_price = cls.base_price + (cls.base_price * inflation/100)\n",
    "        "
   ]
  },
  {
   "cell_type": "code",
   "execution_count": 38,
   "id": "495cf79b",
   "metadata": {},
   "outputs": [],
   "source": [
    "car1 = Car(\"BMW XT\",'BMW')\n"
   ]
  },
  {
   "cell_type": "code",
   "execution_count": 39,
   "id": "77e3ed7e",
   "metadata": {},
   "outputs": [
    {
     "name": "stdout",
     "output_type": "stream",
     "text": [
      "the price is  10000\n"
     ]
    }
   ],
   "source": [
    "car1.display_price()"
   ]
  },
  {
   "cell_type": "code",
   "execution_count": 40,
   "id": "80173f8d",
   "metadata": {},
   "outputs": [],
   "source": [
    "Car.update_base_price(10)"
   ]
  },
  {
   "cell_type": "code",
   "execution_count": 41,
   "id": "359865c7",
   "metadata": {},
   "outputs": [
    {
     "name": "stdout",
     "output_type": "stream",
     "text": [
      "the price is  11000.0\n"
     ]
    }
   ],
   "source": [
    "car1.display_price()"
   ]
  },
  {
   "cell_type": "code",
   "execution_count": 57,
   "id": "2d788130",
   "metadata": {},
   "outputs": [],
   "source": [
    "class BMW:\n",
    "    base_price = 1000\n",
    "    \n",
    "    def __init__(self,model):\n",
    "        self.model = model\n",
    "        \n",
    "    def total_price(self):\n",
    "        if self.model == \"EV\":\n",
    "            self.total_price = self.base_price + 100\n",
    "        elif self.model == \"Petrol\":\n",
    "            self.total_price = self.base_price + 200\n",
    "        else:\n",
    "            self.total_price = self.base_price + 1000\n",
    "    \n",
    "    def display(self):\n",
    "        print(f\" Model base price: {self.base_price}, total price : {self.total_price}\")\n",
    "    \n",
    "    @classmethod\n",
    "    def update_base_price(cls,inflation):\n",
    "        cls.base_price += cls.base_price * inflation / 100\n",
    "        \n",
    "    @staticmethod\n",
    "    def check_year(year):\n",
    "        if year == 2023:\n",
    "            return True\n",
    "        else:\n",
    "            return False\n"
   ]
  },
  {
   "cell_type": "code",
   "execution_count": 58,
   "id": "16353a5e",
   "metadata": {},
   "outputs": [],
   "source": [
    "my_bmw1= BMW(\"EV\")"
   ]
  },
  {
   "cell_type": "code",
   "execution_count": 59,
   "id": "86f04a06",
   "metadata": {},
   "outputs": [
    {
     "name": "stdout",
     "output_type": "stream",
     "text": [
      " Model base price: 1000, total price : 1100\n"
     ]
    },
    {
     "data": {
      "text/plain": [
       "True"
      ]
     },
     "execution_count": 59,
     "metadata": {},
     "output_type": "execute_result"
    }
   ],
   "source": [
    "my_bmw1.total_price()\n",
    "my_bmw1.display()\n",
    "BMW.check_year(2023)"
   ]
  },
  {
   "cell_type": "code",
   "execution_count": 63,
   "id": "950c6c21",
   "metadata": {},
   "outputs": [],
   "source": [
    "from dataclasses import dataclass\n",
    "@dataclass\n",
    "class Employee:\n",
    "    first_name : str\n",
    "    last_name : str\n",
    "\n",
    "    def display(self):\n",
    "        print(f'First name: {self.first_name}, Last_name: {self.last_name}')\n"
   ]
  },
  {
   "cell_type": "code",
   "execution_count": 64,
   "id": "b94e0364",
   "metadata": {},
   "outputs": [],
   "source": [
    "emp1 = Employee(\"vishva\",\"nathan\")"
   ]
  },
  {
   "cell_type": "code",
   "execution_count": 65,
   "id": "0821b7c1",
   "metadata": {},
   "outputs": [
    {
     "name": "stdout",
     "output_type": "stream",
     "text": [
      "First name: vishva, Last_name: nathan\n"
     ]
    }
   ],
   "source": [
    "emp1.display()\n"
   ]
  },
  {
   "cell_type": "code",
   "execution_count": null,
   "id": "72d10ffa",
   "metadata": {},
   "outputs": [],
   "source": []
  },
  {
   "cell_type": "code",
   "execution_count": null,
   "id": "f0c8d474",
   "metadata": {},
   "outputs": [],
   "source": []
  },
  {
   "cell_type": "code",
   "execution_count": null,
   "id": "26003665",
   "metadata": {},
   "outputs": [],
   "source": []
  },
  {
   "cell_type": "code",
   "execution_count": null,
   "id": "f3a8c58a",
   "metadata": {},
   "outputs": [],
   "source": []
  }
 ],
 "metadata": {
  "kernelspec": {
   "display_name": "Python 3 (ipykernel)",
   "language": "python",
   "name": "python3"
  },
  "language_info": {
   "codemirror_mode": {
    "name": "ipython",
    "version": 3
   },
   "file_extension": ".py",
   "mimetype": "text/x-python",
   "name": "python",
   "nbconvert_exporter": "python",
   "pygments_lexer": "ipython3",
   "version": "3.10.9"
  }
 },
 "nbformat": 4,
 "nbformat_minor": 5
}
