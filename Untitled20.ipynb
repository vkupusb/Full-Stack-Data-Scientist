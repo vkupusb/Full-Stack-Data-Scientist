{
 "cells": [
  {
   "cell_type": "code",
   "execution_count": null,
   "id": "spanish-apartment",
   "metadata": {},
   "outputs": [],
   "source": [
    "# i23690231 cpg counte bn 478"
   ]
  },
  {
   "cell_type": "code",
   "execution_count": 1,
   "id": "impossible-warning",
   "metadata": {},
   "outputs": [
    {
     "name": "stdout",
     "output_type": "stream",
     "text": [
      "Tanishka\n"
     ]
    }
   ],
   "source": [
    "name = 'Tanishka'\n",
    "print(name)"
   ]
  },
  {
   "cell_type": "code",
   "execution_count": 3,
   "id": "heated-banking",
   "metadata": {},
   "outputs": [
    {
     "name": "stdout",
     "output_type": "stream",
     "text": [
      "shrutilaya\n"
     ]
    }
   ],
   "source": [
    "name = 'shrutilaya'\n",
    "print(name)    "
   ]
  },
  {
   "cell_type": "code",
   "execution_count": 4,
   "id": "associate-interface",
   "metadata": {},
   "outputs": [
    {
     "data": {
      "text/plain": [
       "4"
      ]
     },
     "execution_count": 4,
     "metadata": {},
     "output_type": "execute_result"
    }
   ],
   "source": [
    "2+2"
   ]
  },
  {
   "cell_type": "code",
   "execution_count": 5,
   "id": "consolidated-ireland",
   "metadata": {},
   "outputs": [
    {
     "data": {
      "text/plain": [
       "13"
      ]
     },
     "execution_count": 5,
     "metadata": {},
     "output_type": "execute_result"
    }
   ],
   "source": [
    "5+8"
   ]
  },
  {
   "cell_type": "code",
   "execution_count": 6,
   "id": "restricted-shark",
   "metadata": {},
   "outputs": [
    {
     "data": {
      "text/plain": [
       "852963145"
      ]
     },
     "execution_count": 6,
     "metadata": {},
     "output_type": "execute_result"
    }
   ],
   "source": [
    "852963147-2"
   ]
  },
  {
   "cell_type": "code",
   "execution_count": 7,
   "id": "collaborative-northern",
   "metadata": {},
   "outputs": [
    {
     "data": {
      "text/plain": [
       "90"
      ]
     },
     "execution_count": 7,
     "metadata": {},
     "output_type": "execute_result"
    }
   ],
   "source": [
    "45+45"
   ]
  },
  {
   "cell_type": "code",
   "execution_count": 8,
   "id": "sharp-notion",
   "metadata": {},
   "outputs": [
    {
     "data": {
      "text/plain": [
       "179"
      ]
     },
     "execution_count": 8,
     "metadata": {},
     "output_type": "execute_result"
    }
   ],
   "source": [
    "95+84"
   ]
  },
  {
   "cell_type": "code",
   "execution_count": 9,
   "id": "daily-phrase",
   "metadata": {},
   "outputs": [
    {
     "data": {
      "text/plain": [
       "52"
      ]
     },
     "execution_count": 9,
     "metadata": {},
     "output_type": "execute_result"
    }
   ],
   "source": [
    "15+37"
   ]
  },
  {
   "cell_type": "code",
   "execution_count": 10,
   "id": "alert-january",
   "metadata": {},
   "outputs": [
    {
     "data": {
      "text/plain": [
       "118"
      ]
     },
     "execution_count": 10,
     "metadata": {},
     "output_type": "execute_result"
    }
   ],
   "source": [
    "89+29"
   ]
  },
  {
   "cell_type": "code",
   "execution_count": 11,
   "id": "hairy-ladder",
   "metadata": {},
   "outputs": [
    {
     "data": {
      "text/plain": [
       "1144"
      ]
     },
     "execution_count": 11,
     "metadata": {},
     "output_type": "execute_result"
    }
   ],
   "source": [
    "512+632"
   ]
  },
  {
   "cell_type": "code",
   "execution_count": 12,
   "id": "facial-orbit",
   "metadata": {},
   "outputs": [
    {
     "data": {
      "text/plain": [
       "22"
      ]
     },
     "execution_count": 12,
     "metadata": {},
     "output_type": "execute_result"
    }
   ],
   "source": [
    "58-36"
   ]
  },
  {
   "cell_type": "code",
   "execution_count": 13,
   "id": "hispanic-shock",
   "metadata": {},
   "outputs": [
    {
     "data": {
      "text/plain": [
       "-243"
      ]
     },
     "execution_count": 13,
     "metadata": {},
     "output_type": "execute_result"
    }
   ],
   "source": [
    "542-785"
   ]
  },
  {
   "cell_type": "code",
   "execution_count": 14,
   "id": "pacific-guard",
   "metadata": {},
   "outputs": [
    {
     "data": {
      "text/plain": [
       "78945612311"
      ]
     },
     "execution_count": 14,
     "metadata": {},
     "output_type": "execute_result"
    }
   ],
   "source": [
    "78945612310+1"
   ]
  },
  {
   "cell_type": "code",
   "execution_count": 15,
   "id": "personal-darwin",
   "metadata": {},
   "outputs": [
    {
     "data": {
      "text/plain": [
       "78459466999254362324850108424842445651887863"
      ]
     },
     "execution_count": 15,
     "metadata": {},
     "output_type": "execute_result"
    }
   ],
   "source": [
    "78459466999254362324850108424842445651887862+1\n"
   ]
  },
  {
   "cell_type": "code",
   "execution_count": 16,
   "id": "crucial-orlando",
   "metadata": {},
   "outputs": [
    {
     "ename": "NameError",
     "evalue": "name 'cat' is not defined",
     "output_type": "error",
     "traceback": [
      "\u001b[1;31m---------------------------------------------------------------------------\u001b[0m",
      "\u001b[1;31mNameError\u001b[0m                                 Traceback (most recent call last)",
      "\u001b[1;32m<ipython-input-16-8de20e71a0db>\u001b[0m in \u001b[0;36m<module>\u001b[1;34m\u001b[0m\n\u001b[1;32m----> 1\u001b[1;33m \u001b[0mcat\u001b[0m\u001b[1;33m+\u001b[0m\u001b[0mrat\u001b[0m\u001b[1;33m\u001b[0m\u001b[1;33m\u001b[0m\u001b[0m\n\u001b[0m",
      "\u001b[1;31mNameError\u001b[0m: name 'cat' is not defined"
     ]
    }
   ],
   "source": []
  },
  {
   "cell_type": "code",
   "execution_count": 18,
   "id": "forced-constitution",
   "metadata": {},
   "outputs": [
    {
     "name": "stdout",
     "output_type": "stream",
     "text": [
      "Tanishka\n"
     ]
    }
   ],
   "source": [
    "name = 'Tanishka'\n",
    "print (name)\n"
   ]
  },
  {
   "cell_type": "code",
   "execution_count": 19,
   "id": "consecutive-affiliate",
   "metadata": {},
   "outputs": [
    {
     "data": {
      "text/plain": [
       "50"
      ]
     },
     "execution_count": 19,
     "metadata": {},
     "output_type": "execute_result"
    }
   ],
   "source": [
    "25+25"
   ]
  },
  {
   "cell_type": "code",
   "execution_count": 20,
   "id": "cognitive-rouge",
   "metadata": {},
   "outputs": [
    {
     "data": {
      "text/plain": [
       "55"
      ]
     },
     "execution_count": 20,
     "metadata": {},
     "output_type": "execute_result"
    }
   ],
   "source": [
    "35+20"
   ]
  },
  {
   "cell_type": "code",
   "execution_count": 21,
   "id": "skilled-andorra",
   "metadata": {},
   "outputs": [
    {
     "name": "stdout",
     "output_type": "stream",
     "text": [
      "shrutilaya dheepa\n"
     ]
    }
   ],
   "source": [
    "name = 'shrutilaya dheepa'\n",
    "print(name)"
   ]
  },
  {
   "cell_type": "code",
   "execution_count": 22,
   "id": "smooth-trinity",
   "metadata": {},
   "outputs": [
    {
     "data": {
      "text/plain": [
       "79144"
      ]
     },
     "execution_count": 22,
     "metadata": {},
     "output_type": "execute_result"
    }
   ],
   "source": [
    "78686+458"
   ]
  },
  {
   "cell_type": "code",
   "execution_count": 23,
   "id": "saved-principal",
   "metadata": {},
   "outputs": [
    {
     "name": "stdout",
     "output_type": "stream",
     "text": [
      "cat\n"
     ]
    }
   ],
   "source": [
    "name = 'cat'\n",
    "print(name)"
   ]
  },
  {
   "cell_type": "code",
   "execution_count": 24,
   "id": "stainless-idaho",
   "metadata": {},
   "outputs": [
    {
     "data": {
      "text/plain": [
       "784591229"
      ]
     },
     "execution_count": 24,
     "metadata": {},
     "output_type": "execute_result"
    }
   ],
   "source": [
    "784591230-1"
   ]
  },
  {
   "cell_type": "code",
   "execution_count": 25,
   "id": "recreational-motivation",
   "metadata": {},
   "outputs": [
    {
     "data": {
      "text/plain": [
       "100846"
      ]
     },
     "execution_count": 25,
     "metadata": {},
     "output_type": "execute_result"
    }
   ],
   "source": [
    "98712+2134"
   ]
  },
  {
   "cell_type": "markdown",
   "id": "helpful-dominican",
   "metadata": {},
   "source": [
    "name = 'dog'\n",
    "print(name)"
   ]
  },
  {
   "cell_type": "code",
   "execution_count": null,
   "id": "preliminary-european",
   "metadata": {},
   "outputs": [],
   "source": []
  },
  {
   "cell_type": "code",
   "execution_count": null,
   "id": "functional-spread",
   "metadata": {},
   "outputs": [],
   "source": []
  },
  {
   "cell_type": "code",
   "execution_count": null,
   "id": "spatial-charity",
   "metadata": {},
   "outputs": [],
   "source": []
  }
 ],
 "metadata": {
  "kernelspec": {
   "display_name": "Python 3",
   "language": "python",
   "name": "python3"
  },
  "language_info": {
   "codemirror_mode": {
    "name": "ipython",
    "version": 3
   },
   "file_extension": ".py",
   "mimetype": "text/x-python",
   "name": "python",
   "nbconvert_exporter": "python",
   "pygments_lexer": "ipython3",
   "version": "3.8.2"
  }
 },
 "nbformat": 4,
 "nbformat_minor": 5
}
