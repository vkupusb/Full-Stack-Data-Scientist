{
 "cells": [
  {
   "cell_type": "code",
   "execution_count": 3,
   "id": "enabling-quantity",
   "metadata": {},
   "outputs": [
    {
     "name": "stdout",
     "output_type": "stream",
     "text": [
      "My name is Tanishka Vishvanathan\n"
     ]
    }
   ],
   "source": [
    "print(\"My name is {}\".format(\"Tanishka Vishvanathan\"))"
   ]
  },
  {
   "cell_type": "code",
   "execution_count": 4,
   "id": "white-merchant",
   "metadata": {},
   "outputs": [
    {
     "name": "stdout",
     "output_type": "stream",
     "text": [
      "I am studing in class 6\n"
     ]
    }
   ],
   "source": [
    "print(\"I am studing in class 6\")"
   ]
  },
  {
   "cell_type": "code",
   "execution_count": null,
   "id": "italic-style",
   "metadata": {},
   "outputs": [],
   "source": [
    "My favourite colour is pink."
   ]
  },
  {
   "cell_type": "code",
   "execution_count": null,
   "id": "precise-personal",
   "metadata": {},
   "outputs": [],
   "source": [
    "dog"
   ]
  },
  {
   "cell_type": "code",
   "execution_count": null,
   "id": "agreed-ivory",
   "metadata": {},
   "outputs": [],
   "source": [
    "cat"
   ]
  },
  {
   "cell_type": "code",
   "execution_count": null,
   "id": "decent-linux",
   "metadata": {},
   "outputs": [],
   "source": [
    "horse"
   ]
  },
  {
   "cell_type": "code",
   "execution_count": null,
   "id": "commercial-accordance",
   "metadata": {},
   "outputs": [],
   "source": [
    "guenia"
   ]
  },
  {
   "cell_type": "code",
   "execution_count": null,
   "id": "periodic-rebecca",
   "metadata": {},
   "outputs": [],
   "source": [
    "shrutilaya"
   ]
  },
  {
   "cell_type": "code",
   "execution_count": null,
   "id": "heard-aerospace",
   "metadata": {},
   "outputs": [],
   "source": [
    "panda"
   ]
  },
  {
   "cell_type": "code",
   "execution_count": null,
   "id": "trying-nation",
   "metadata": {},
   "outputs": [],
   "source": [
    "tiger"
   ]
  },
  {
   "cell_type": "code",
   "execution_count": null,
   "id": "incident-hobby",
   "metadata": {},
   "outputs": [],
   "source": [
    "lion"
   ]
  },
  {
   "cell_type": "code",
   "execution_count": 5,
   "id": "accepted-worthy",
   "metadata": {},
   "outputs": [],
   "source": [
    "myfile = open(\"Tanishka.txt\",\"w\")\n",
    "myfile.write(\"Hi I am Tanishka, studying in CBSE board, 5th grade in my local school\")\n",
    "myfile.close()"
   ]
  },
  {
   "cell_type": "code",
   "execution_count": 6,
   "id": "directed-manchester",
   "metadata": {},
   "outputs": [
    {
     "name": "stdout",
     "output_type": "stream",
     "text": [
      "Hi I am Tanishka, studying in CBSE board, 5th grade in my local school\n"
     ]
    }
   ],
   "source": [
    "myfile = open(\"Tanishka.txt\")\n",
    "content = myfile.read()\n",
    "myfile.close()\n",
    "print(content)"
   ]
  },
  {
   "cell_type": "code",
   "execution_count": 17,
   "id": "following-edward",
   "metadata": {},
   "outputs": [
    {
     "name": "stdout",
     "output_type": "stream",
     "text": [
      "shrutilaya is naughty girl\n"
     ]
    }
   ],
   "source": [
    "myfile = open(\"shrutilaya.txt\",\"w+\")\n",
    "myfile.write(\"shrutilaya is naughty girl\") \n",
    "myfile.seek(0)\n",
    "content = myfile.read()\n",
    "myfile.close () \n",
    "print(content)\n"
   ]
  },
  {
   "cell_type": "code",
   "execution_count": 10,
   "id": "advisory-concentrate",
   "metadata": {},
   "outputs": [
    {
     "name": "stdout",
     "output_type": "stream",
     "text": [
      "shrutilaya is naughty girl\n"
     ]
    }
   ],
   "source": [
    "myfile = open(\"shrutilaya.txt\") \n",
    "content = myfile.read() \n",
    "myfile.close() \n",
    "print(content)\n"
   ]
  },
  {
   "cell_type": "code",
   "execution_count": 18,
   "id": "willing-pittsburgh",
   "metadata": {},
   "outputs": [
    {
     "ename": "NameError",
     "evalue": "name 'monkey' is not defined",
     "output_type": "error",
     "traceback": [
      "\u001b[1;31m---------------------------------------------------------------------------\u001b[0m",
      "\u001b[1;31mNameError\u001b[0m                                 Traceback (most recent call last)",
      "\u001b[1;32m<ipython-input-18-6be5e9b3c458>\u001b[0m in \u001b[0;36m<module>\u001b[1;34m\u001b[0m\n\u001b[1;32m----> 1\u001b[1;33m \u001b[0mprint\u001b[0m \u001b[1;33m(\u001b[0m\u001b[0mshrutilaya\u001b[0m \u001b[1;33m=\u001b[0m \u001b[0mmonkey\u001b[0m\u001b[1;33m(\u001b[0m\u001b[1;34m\"shrutilaya\"\u001b[0m\u001b[1;33m)\u001b[0m\u001b[1;33m)\u001b[0m\u001b[1;33m\u001b[0m\u001b[1;33m\u001b[0m\u001b[0m\n\u001b[0m",
      "\u001b[1;31mNameError\u001b[0m: name 'monkey' is not defined"
     ]
    }
   ],
   "source": []
  },
  {
   "cell_type": "code",
   "execution_count": 19,
   "id": "checked-ceremony",
   "metadata": {},
   "outputs": [
    {
     "name": "stdout",
     "output_type": "stream",
     "text": [
      "Shruti is nice girl\n"
     ]
    }
   ],
   "source": [
    "print('Shruti is nice girl')\n"
   ]
  },
  {
   "cell_type": "code",
   "execution_count": 20,
   "id": "ambient-holly",
   "metadata": {},
   "outputs": [
    {
     "name": "stdout",
     "output_type": "stream",
     "text": [
      "shrutilaya is good girl\n"
     ]
    }
   ],
   "source": [
    "myfile = open(\"shrutilaya.txt\",\"w+\")\n",
    "myfile.write(\"shrutilaya is good girl\") \n",
    "myfile.seek(0)\n",
    "content = myfile.read()\n",
    "myfile.close () \n",
    "print(content)"
   ]
  },
  {
   "cell_type": "code",
   "execution_count": 21,
   "id": "final-potential",
   "metadata": {},
   "outputs": [
    {
     "name": "stdout",
     "output_type": "stream",
     "text": [
      "vishva is always great\n"
     ]
    }
   ],
   "source": [
    "print(\"vishva is always great\")"
   ]
  },
  {
   "cell_type": "code",
   "execution_count": 23,
   "id": "abstract-silly",
   "metadata": {},
   "outputs": [
    {
     "name": "stdout",
     "output_type": "stream",
     "text": [
      "tanishka is always great\n"
     ]
    }
   ],
   "source": [
    "print (\"tanishka is always great\")  \n",
    "\n",
    "      "
   ]
  },
  {
   "cell_type": "code",
   "execution_count": 24,
   "id": "foster-proxy",
   "metadata": {},
   "outputs": [
    {
     "name": "stdout",
     "output_type": "stream",
     "text": [
      "shrutilaya is = monkey\n"
     ]
    }
   ],
   "source": [
    "print (\"shrutilaya is = monkey\")  "
   ]
  },
  {
   "cell_type": "code",
   "execution_count": 25,
   "id": "satisfied-consortium",
   "metadata": {},
   "outputs": [
    {
     "name": "stdout",
     "output_type": "stream",
     "text": [
      "shrutilaya is very very very very very very very very bad girl\n"
     ]
    }
   ],
   "source": [
    "print (\"shrutilaya is very very very very very very very very bad girl\")  "
   ]
  },
  {
   "cell_type": "code",
   "execution_count": 26,
   "id": "cognitive-barrier",
   "metadata": {},
   "outputs": [
    {
     "name": "stdout",
     "output_type": "stream",
     "text": [
      "shrutilaya is always fool\n"
     ]
    }
   ],
   "source": [
    "print (\"shrutilaya is always fool\")  \n"
   ]
  },
  {
   "cell_type": "code",
   "execution_count": 27,
   "id": "determined-cedar",
   "metadata": {},
   "outputs": [
    {
     "name": "stdout",
     "output_type": "stream",
     "text": [
      "shrutilaya is very disturb \n"
     ]
    }
   ],
   "source": [
    "print (\"shrutilaya is very disturb \") "
   ]
  },
  {
   "cell_type": "code",
   "execution_count": 28,
   "id": "flush-holder",
   "metadata": {},
   "outputs": [
    {
     "name": "stdout",
     "output_type": "stream",
     "text": [
      "shrutilaya is so good girl\n"
     ]
    }
   ],
   "source": [
    "print (\"shrutilaya is so good girl\") \n",
    "       "
   ]
  },
  {
   "cell_type": "code",
   "execution_count": 29,
   "id": "racial-martial",
   "metadata": {},
   "outputs": [
    {
     "name": "stdout",
     "output_type": "stream",
     "text": [
      "shrutilaya is intelligent\n"
     ]
    }
   ],
   "source": [
    "print(\"shrutilaya is intelligent\") "
   ]
  },
  {
   "cell_type": "code",
   "execution_count": 30,
   "id": "nonprofit-arthur",
   "metadata": {},
   "outputs": [
    {
     "name": "stdout",
     "output_type": "stream",
     "text": [
      "shrutilaya is fablous\n"
     ]
    }
   ],
   "source": [
    "print(\"shrutilaya is fablous\")"
   ]
  },
  {
   "cell_type": "code",
   "execution_count": 31,
   "id": "orange-honey",
   "metadata": {},
   "outputs": [
    {
     "name": "stdout",
     "output_type": "stream",
     "text": [
      "shrutilaya is always great\n"
     ]
    }
   ],
   "source": [
    "print(\"shrutilaya is always great\") "
   ]
  },
  {
   "cell_type": "code",
   "execution_count": 32,
   "id": "intermediate-lambda",
   "metadata": {},
   "outputs": [
    {
     "name": "stdout",
     "output_type": "stream",
     "text": [
      "shrutilaya is exellent\n"
     ]
    }
   ],
   "source": [
    "print(\"shrutilaya is exellent\") "
   ]
  },
  {
   "cell_type": "code",
   "execution_count": 33,
   "id": "distinct-sector",
   "metadata": {},
   "outputs": [
    {
     "name": "stdout",
     "output_type": "stream",
     "text": [
      "shrutilaya is nice person\n"
     ]
    }
   ],
   "source": [
    "print(\"shrutilaya is nice person\") "
   ]
  },
  {
   "cell_type": "code",
   "execution_count": 34,
   "id": "democratic-arabic",
   "metadata": {},
   "outputs": [
    {
     "name": "stdout",
     "output_type": "stream",
     "text": [
      "shrutilaya is very ery very very very very very ery very rich\n"
     ]
    }
   ],
   "source": [
    "print(\"shrutilaya is very ery very very very very very ery very rich\") "
   ]
  },
  {
   "cell_type": "code",
   "execution_count": 35,
   "id": "accepting-railway",
   "metadata": {},
   "outputs": [
    {
     "name": "stdout",
     "output_type": "stream",
     "text": [
      "shrutilaya is very poor in cheating\n"
     ]
    }
   ],
   "source": [
    "print(\"shrutilaya is very poor in cheating\") \n"
   ]
  }
 ],
 "metadata": {
  "kernelspec": {
   "display_name": "Python 3",
   "language": "python",
   "name": "python3"
  },
  "language_info": {
   "codemirror_mode": {
    "name": "ipython",
    "version": 3
   },
   "file_extension": ".py",
   "mimetype": "text/x-python",
   "name": "python",
   "nbconvert_exporter": "python",
   "pygments_lexer": "ipython3",
   "version": "3.8.2"
  }
 },
 "nbformat": 4,
 "nbformat_minor": 5
}
