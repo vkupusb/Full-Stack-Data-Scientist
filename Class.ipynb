{
 "cells": [
  {
   "cell_type": "markdown",
   "id": "e630bc0d",
   "metadata": {},
   "source": [
    "# Classes\n",
    "\n"
   ]
  },
  {
   "cell_type": "code",
   "execution_count": 20,
   "id": "3dab3fe9",
   "metadata": {},
   "outputs": [],
   "source": [
    "class Person:\n",
    "    def __init__(self,name,last_name):\n",
    "        self.name = name\n",
    "        self.last_name = last_name\n",
    "        \n",
    "    def __str__(self):\n",
    "        #return \"the name is {} and the last name is {}\".format(self.name,self.last_name)\n",
    "        return f\"the name is {self.name} and last name is {self.last_name}.\"\n",
    "\n"
   ]
  },
  {
   "cell_type": "code",
   "execution_count": 21,
   "id": "2b123945",
   "metadata": {},
   "outputs": [
    {
     "name": "stdout",
     "output_type": "stream",
     "text": [
      "the name is vishvanathan and last name is kuppusamy.\n"
     ]
    }
   ],
   "source": [
    "p = Person(\"vishvanathan\",\"kuppusamy\")\n",
    "print(p)"
   ]
  },
  {
   "cell_type": "code",
   "execution_count": 6,
   "id": "11f3253f",
   "metadata": {},
   "outputs": [],
   "source": [
    "p.name = \"vishva\""
   ]
  },
  {
   "cell_type": "code",
   "execution_count": 12,
   "id": "d0d1fc70",
   "metadata": {},
   "outputs": [
    {
     "name": "stdout",
     "output_type": "stream",
     "text": [
      "vishvanathan\n"
     ]
    }
   ],
   "source": [
    "print(p.name)"
   ]
  },
  {
   "cell_type": "code",
   "execution_count": 13,
   "id": "a419b8e1",
   "metadata": {},
   "outputs": [
    {
     "data": {
      "text/plain": [
       "['__class__',\n",
       " '__delattr__',\n",
       " '__dict__',\n",
       " '__dir__',\n",
       " '__doc__',\n",
       " '__eq__',\n",
       " '__format__',\n",
       " '__ge__',\n",
       " '__getattribute__',\n",
       " '__gt__',\n",
       " '__hash__',\n",
       " '__init__',\n",
       " '__init_subclass__',\n",
       " '__le__',\n",
       " '__lt__',\n",
       " '__module__',\n",
       " '__ne__',\n",
       " '__new__',\n",
       " '__reduce__',\n",
       " '__reduce_ex__',\n",
       " '__repr__',\n",
       " '__setattr__',\n",
       " '__sizeof__',\n",
       " '__str__',\n",
       " '__subclasshook__',\n",
       " '__weakref__',\n",
       " 'last_name',\n",
       " 'name']"
      ]
     },
     "execution_count": 13,
     "metadata": {},
     "output_type": "execute_result"
    }
   ],
   "source": [
    "dir(p)"
   ]
  },
  {
   "cell_type": "code",
   "execution_count": 15,
   "id": "19854095",
   "metadata": {},
   "outputs": [],
   "source": [
    "p2 = Person(\"Tanishka\",\"Vishvanathan\")"
   ]
  },
  {
   "cell_type": "code",
   "execution_count": 17,
   "id": "3e5f54a2",
   "metadata": {},
   "outputs": [
    {
     "name": "stdout",
     "output_type": "stream",
     "text": [
      "Tanishka Vishvanathan\n"
     ]
    }
   ],
   "source": [
    "print(p2.name,p2.last_name)"
   ]
  },
  {
   "cell_type": "code",
   "execution_count": 37,
   "id": "c6e071ca",
   "metadata": {},
   "outputs": [],
   "source": [
    "class BankAccount:\n",
    "    def __init__(self,account_number,name,balance):\n",
    "        self.account_number = account_number\n",
    "        self.name = name\n",
    "        self.balance = balance\n",
    "        \n",
    "    def __str__(self):\n",
    "        return f\"account number:{self.account_number}, Name: {self.name}        , Current balance : {self.balance}\"\n",
    "    \n",
    "    def deposit(self,amount):\n",
    "        self.balance += amount\n",
    "    \n",
    "    def withdraw(self,amount):\n",
    "        if amount <= self.balance:\n",
    "            self.balance -= amount\n",
    "        else:\n",
    "            print(\"No sufficient balanace\")\n",
    "    \n",
    "    \n"
   ]
  },
  {
   "cell_type": "code",
   "execution_count": 38,
   "id": "49880b9c",
   "metadata": {},
   "outputs": [
    {
     "name": "stdout",
     "output_type": "stream",
     "text": [
      "account number:1, Name: vishva        , Current balance : 101\n"
     ]
    }
   ],
   "source": [
    "my_account = BankAccount(1,\"vishva\",101)\n",
    "print(my_account)"
   ]
  },
  {
   "cell_type": "code",
   "execution_count": 39,
   "id": "aa142659",
   "metadata": {},
   "outputs": [
    {
     "name": "stdout",
     "output_type": "stream",
     "text": [
      "account number:1, Name: vishva        , Current balance : 301\n"
     ]
    }
   ],
   "source": [
    "my_account.deposit(200)\n",
    "print(my_account)"
   ]
  },
  {
   "cell_type": "code",
   "execution_count": 41,
   "id": "eaf13a57",
   "metadata": {},
   "outputs": [
    {
     "name": "stdout",
     "output_type": "stream",
     "text": [
      "No sufficient balanace\n",
      "account number:1, Name: vishva        , Current balance : 201\n"
     ]
    }
   ],
   "source": [
    "my_account.withdraw(1000)\n",
    "print(my_account)"
   ]
  },
  {
   "cell_type": "code",
   "execution_count": 42,
   "id": "923b0c5e",
   "metadata": {},
   "outputs": [
    {
     "data": {
      "text/plain": [
       "['__class__',\n",
       " '__delattr__',\n",
       " '__dict__',\n",
       " '__dir__',\n",
       " '__doc__',\n",
       " '__eq__',\n",
       " '__format__',\n",
       " '__ge__',\n",
       " '__getattribute__',\n",
       " '__gt__',\n",
       " '__hash__',\n",
       " '__init__',\n",
       " '__init_subclass__',\n",
       " '__le__',\n",
       " '__lt__',\n",
       " '__module__',\n",
       " '__ne__',\n",
       " '__new__',\n",
       " '__reduce__',\n",
       " '__reduce_ex__',\n",
       " '__repr__',\n",
       " '__setattr__',\n",
       " '__sizeof__',\n",
       " '__str__',\n",
       " '__subclasshook__',\n",
       " '__weakref__',\n",
       " 'account_number',\n",
       " 'balance',\n",
       " 'deposit',\n",
       " 'name',\n",
       " 'withdraw']"
      ]
     },
     "execution_count": 42,
     "metadata": {},
     "output_type": "execute_result"
    }
   ],
   "source": [
    "dir(my_account)"
   ]
  },
  {
   "cell_type": "code",
   "execution_count": 50,
   "id": "89702086",
   "metadata": {},
   "outputs": [
    {
     "name": "stdout",
     "output_type": "stream",
     "text": [
      "task1\n",
      "task2\n",
      "task3\n",
      "task4\n",
      "task5\n",
      "Task {task} is completed.\n",
      "task1\n",
      "task2\n",
      "task4\n",
      "task5\n"
     ]
    }
   ],
   "source": [
    "class ToDoList:\n",
    "    \n",
    "    \"\"\"\n",
    "    Add item in the To do list\n",
    "    Remove item from the To d list\n",
    "    \"\"\"\n",
    "    \n",
    "    def __init__(self):\n",
    "        \"\"\"\n",
    "        Fresh list is created\n",
    "        \"\"\"\n",
    "        self.task_name = list()\n",
    "        \n",
    "    \n",
    "    def add_task(self,task):\n",
    "        \"\"\"\n",
    "        append the task in the To do list\n",
    "        \"\"\"\n",
    "        self.task_name.append(task)\n",
    "        \n",
    "    def remove_task(self,task):\n",
    "        \"\"\"\n",
    "        remove item from the to do list\n",
    "        \"\"\"\n",
    "        if task in self.task_name:\n",
    "            self.task_name.remove(task)\n",
    "        else:\n",
    "            print(\"Task is not available in the to do list\")\n",
    "            \n",
    "        \n",
    "    def complete_task(self,task):\n",
    "        self.remove_task(task)\n",
    "        print(\"Task {task} is completed.\")\n",
    "        \n",
    "    def display_tasks(self):\n",
    "        for task in self.task_name:\n",
    "            print(task)\n",
    "        \n",
    "\n",
    "\n",
    "action_items = ToDoList()\n",
    "action_items.add_task(\"task1\")\n",
    "action_items.add_task(\"task2\")\n",
    "action_items.add_task(\"task3\")\n",
    "action_items.add_task(\"task4\")\n",
    "action_items.add_task(\"task5\")\n",
    "\n",
    "action_items.display_tasks()\n",
    "\n",
    "action_items.complete_task(\"task3\")\n",
    "\n",
    "action_items.display_tasks()"
   ]
  },
  {
   "cell_type": "code",
   "execution_count": 51,
   "id": "83bf6b8b",
   "metadata": {},
   "outputs": [
    {
     "name": "stdout",
     "output_type": "stream",
     "text": [
      "The Audi Q3 Black Petrol is starting\n",
      "The BMW XT White Petrol is starting\n",
      "The Audi Q3 Black Petrol is stopping\n",
      "The BMW XT White Petrol is stopping\n"
     ]
    }
   ],
   "source": [
    "class Car:\n",
    "    \n",
    "    def __init__(self,brand,model,color,fuel_type):\n",
    "        self.brand = brand\n",
    "        self.model = model\n",
    "        self.color = color\n",
    "        self.fuel_type = fuel_type\n",
    "        \n",
    "    def start_engine(self):\n",
    "        print(f'The {self.brand} {self.model} {self.color} {self.fuel_type} is starting')\n",
    "    \n",
    "    def stop_engine(self):\n",
    "        print(f'The {self.brand} {self.model} {self.color} {self.fuel_type} is stopping')\n",
    "        \n",
    "car1 = Car(\"Audi\",\"Q3\",\"Black\",\"Petrol\")\n",
    "car2 = Car(\"BMW\",\"XT\",\"White\",\"Petrol\")\n",
    "\n",
    "car1.start_engine()\n",
    "car2.start_engine()\n",
    "\n",
    "\n",
    "car1.stop_engine()\n",
    "car2.stop_engine()\n",
    "\n",
    "        \n",
    "        "
   ]
  },
  {
   "cell_type": "code",
   "execution_count": 55,
   "id": "616120aa",
   "metadata": {},
   "outputs": [
    {
     "name": "stdout",
     "output_type": "stream",
     "text": [
      "the 9784512345 is connecting to 999 777 3333\n",
      "the text messagging is sending to 999 777 3333\n"
     ]
    }
   ],
   "source": [
    "class MobilePhone:\n",
    "    \n",
    "    def __init__(self, brand, model, processor, price, number):\n",
    "        self.brand = brand\n",
    "        self.model = model\n",
    "        self.processor = processor\n",
    "        self.price = price\n",
    "        self.number = number\n",
    "        \n",
    "    def make_call(self, dialed_number):\n",
    "        print(f'the {self.number} is connecting to {dialed_number}')\n",
    "        \n",
    "    def send_sms(self,number):\n",
    "        print(f'the text messagging is sending to {number}')\n",
    "        \n",
    "phone1 = MobilePhone(\"Apple\",\"S14\",\"ARM\",10, 9784512345)\n",
    "phone1.make_call('999 777 3333')\n",
    "phone1.send_sms('999 777 3333')"
   ]
  },
  {
   "cell_type": "code",
   "execution_count": null,
   "id": "fddb076d",
   "metadata": {},
   "outputs": [],
   "source": []
  },
  {
   "cell_type": "code",
   "execution_count": null,
   "id": "a337167f",
   "metadata": {},
   "outputs": [],
   "source": []
  },
  {
   "cell_type": "code",
   "execution_count": null,
   "id": "7c891395",
   "metadata": {},
   "outputs": [],
   "source": []
  },
  {
   "cell_type": "code",
   "execution_count": null,
   "id": "350267e2",
   "metadata": {},
   "outputs": [],
   "source": []
  },
  {
   "cell_type": "code",
   "execution_count": null,
   "id": "e39b84a9",
   "metadata": {},
   "outputs": [],
   "source": []
  },
  {
   "cell_type": "code",
   "execution_count": null,
   "id": "c144cda3",
   "metadata": {},
   "outputs": [],
   "source": []
  },
  {
   "cell_type": "code",
   "execution_count": null,
   "id": "03ca932d",
   "metadata": {},
   "outputs": [],
   "source": []
  }
 ],
 "metadata": {
  "kernelspec": {
   "display_name": "Python 3 (ipykernel)",
   "language": "python",
   "name": "python3"
  },
  "language_info": {
   "codemirror_mode": {
    "name": "ipython",
    "version": 3
   },
   "file_extension": ".py",
   "mimetype": "text/x-python",
   "name": "python",
   "nbconvert_exporter": "python",
   "pygments_lexer": "ipython3",
   "version": "3.10.9"
  }
 },
 "nbformat": 4,
 "nbformat_minor": 5
}
