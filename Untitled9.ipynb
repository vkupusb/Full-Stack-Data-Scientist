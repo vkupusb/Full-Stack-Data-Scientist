{
 "cells": [
  {
   "cell_type": "code",
   "execution_count": 1,
   "id": "armed-beatles",
   "metadata": {},
   "outputs": [
    {
     "name": "stdout",
     "output_type": "stream",
     "text": [
      "kola\n"
     ]
    }
   ],
   "source": [
    "print ('kola')"
   ]
  },
  {
   "cell_type": "code",
   "execution_count": 2,
   "id": "future-watch",
   "metadata": {},
   "outputs": [
    {
     "name": "stdout",
     "output_type": "stream",
     "text": [
      " sorry\n"
     ]
    }
   ],
   "source": [
    "iprint (' sorry')"
   ]
  },
  {
   "cell_type": "code",
   "execution_count": 3,
   "id": "sophisticated-starter",
   "metadata": {},
   "outputs": [
    {
     "name": "stdout",
     "output_type": "stream",
     "text": [
      "tyuhdfg888888888888888ujgh\n"
     ]
    }
   ],
   "source": [
    "print  ('tyuhdfg888888888888888ujgh')"
   ]
  },
  {
   "cell_type": "code",
   "execution_count": 4,
   "id": "official-milan",
   "metadata": {},
   "outputs": [
    {
     "name": "stdout",
     "output_type": "stream",
     "text": [
      "999999999999999999999999999999999999999999999999999999999999yuiiiiiiiiiiiiiiiiiiiiiiiiiihjjjjjjjjjjjjjjjjjjjjjjjjjjjjjjjjjjjjjjjj\n"
     ]
    }
   ],
   "source": [
    "print ('999999999999999999999999999999999999999999999999999999999999yuiiiiiiiiiiiiiiiiiiiiiiiiiihjjjjjjjjjjjjjjjjjjjjjjjjjjjjjjjjjjjjjjjj')"
   ]
  },
  {
   "cell_type": "code",
   "execution_count": null,
   "id": "controversial-purchase",
   "metadata": {},
   "outputs": [],
   "source": [
    "print (my)"
   ]
  }
 ],
 "metadata": {
  "kernelspec": {
   "display_name": "Python 3",
   "language": "python",
   "name": "python3"
  },
  "language_info": {
   "codemirror_mode": {
    "name": "ipython",
    "version": 3
   },
   "file_extension": ".py",
   "mimetype": "text/x-python",
   "name": "python",
   "nbconvert_exporter": "python",
   "pygments_lexer": "ipython3",
   "version": "3.8.2"
  }
 },
 "nbformat": 4,
 "nbformat_minor": 5
}
