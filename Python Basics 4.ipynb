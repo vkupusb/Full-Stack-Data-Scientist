{
 "cells": [
  {
   "cell_type": "code",
   "execution_count": 1,
   "id": "5eefe2dd",
   "metadata": {},
   "outputs": [],
   "source": [
    "%config IPCompleter.greedy=True"
   ]
  },
  {
   "cell_type": "code",
   "execution_count": 3,
   "id": "a8dd0e26",
   "metadata": {},
   "outputs": [],
   "source": [
    "myset = set({5,3,1})"
   ]
  },
  {
   "cell_type": "code",
   "execution_count": 4,
   "id": "b20bc920",
   "metadata": {
    "scrolled": false
   },
   "outputs": [
    {
     "data": {
      "text/plain": [
       "{1, 3, 5}"
      ]
     },
     "execution_count": 4,
     "metadata": {},
     "output_type": "execute_result"
    }
   ],
   "source": [
    "myset"
   ]
  },
  {
   "cell_type": "code",
   "execution_count": 5,
   "id": "2d5eeab9",
   "metadata": {},
   "outputs": [],
   "source": [
    "myset.add(5)"
   ]
  },
  {
   "cell_type": "code",
   "execution_count": 6,
   "id": "b20d38d2",
   "metadata": {},
   "outputs": [
    {
     "data": {
      "text/plain": [
       "{1, 3, 5}"
      ]
     },
     "execution_count": 6,
     "metadata": {},
     "output_type": "execute_result"
    }
   ],
   "source": [
    "myset"
   ]
  },
  {
   "cell_type": "code",
   "execution_count": 7,
   "id": "2a978922",
   "metadata": {},
   "outputs": [],
   "source": [
    "myset.add(\"victory\")\n",
    "myset.add(\"Deep\")\n",
    "myset.add(\"gold\")\n",
    "myset.add(\"save\")\n"
   ]
  },
  {
   "cell_type": "code",
   "execution_count": 8,
   "id": "4adf6a33",
   "metadata": {},
   "outputs": [
    {
     "data": {
      "text/plain": [
       "{1, 3, 5, 'Deep', 'gold', 'save', 'victory'}"
      ]
     },
     "execution_count": 8,
     "metadata": {},
     "output_type": "execute_result"
    }
   ],
   "source": [
    "myset"
   ]
  },
  {
   "cell_type": "code",
   "execution_count": 9,
   "id": "bbf26a70",
   "metadata": {},
   "outputs": [],
   "source": [
    "another_set = myset.copy()"
   ]
  },
  {
   "cell_type": "code",
   "execution_count": 10,
   "id": "de312be8",
   "metadata": {},
   "outputs": [
    {
     "name": "stdout",
     "output_type": "stream",
     "text": [
      "{'save', 1, 3, 5, 'victory', 'gold', 'Deep'}\n"
     ]
    }
   ],
   "source": [
    "print(another_set)"
   ]
  },
  {
   "cell_type": "code",
   "execution_count": 14,
   "id": "73d279b7",
   "metadata": {},
   "outputs": [],
   "source": [
    "another_set.add('Bosch')\n",
    "myset.symmetric_difference_update(another_set)"
   ]
  },
  {
   "cell_type": "code",
   "execution_count": 15,
   "id": "ffe1e223",
   "metadata": {},
   "outputs": [
    {
     "data": {
      "text/plain": [
       "{'Bosch'}"
      ]
     },
     "execution_count": 15,
     "metadata": {},
     "output_type": "execute_result"
    }
   ],
   "source": [
    "myset\n"
   ]
  },
  {
   "cell_type": "code",
   "execution_count": 16,
   "id": "3ac2ca4e",
   "metadata": {},
   "outputs": [],
   "source": [
    "dist1 = {\"Name\":\"Vishva\",\"Age\":42,\"Gender\":\"Male\"}"
   ]
  },
  {
   "cell_type": "code",
   "execution_count": 17,
   "id": "3b4770ac",
   "metadata": {},
   "outputs": [
    {
     "name": "stdout",
     "output_type": "stream",
     "text": [
      "{'Name': 'Vishva', 'Age': 42, 'Gender': 'Male'}\n"
     ]
    }
   ],
   "source": [
    "print(dist1)"
   ]
  },
  {
   "cell_type": "code",
   "execution_count": 18,
   "id": "746ef138",
   "metadata": {},
   "outputs": [
    {
     "name": "stdout",
     "output_type": "stream",
     "text": [
      "dict_keys(['Name', 'Age', 'Gender'])\n"
     ]
    }
   ],
   "source": [
    "print(dist1.keys())"
   ]
  },
  {
   "cell_type": "code",
   "execution_count": 19,
   "id": "ad9412a9",
   "metadata": {},
   "outputs": [
    {
     "name": "stdout",
     "output_type": "stream",
     "text": [
      "dict_items([('Name', 'Vishva'), ('Age', 42), ('Gender', 'Male')])\n"
     ]
    }
   ],
   "source": [
    "print(dist1.items())"
   ]
  },
  {
   "cell_type": "code",
   "execution_count": 22,
   "id": "b40345ed",
   "metadata": {},
   "outputs": [],
   "source": [
    "dist2 = dict(Name=\"V\",Age=21,Gender=\"Male\")"
   ]
  },
  {
   "cell_type": "code",
   "execution_count": 23,
   "id": "a83ff9b5",
   "metadata": {},
   "outputs": [
    {
     "name": "stdout",
     "output_type": "stream",
     "text": [
      "{'Name': 'V', 'Age': 21, 'Gender': 'Male'}\n"
     ]
    }
   ],
   "source": [
    "print(dist2)"
   ]
  },
  {
   "cell_type": "code",
   "execution_count": 24,
   "id": "42350dec",
   "metadata": {},
   "outputs": [],
   "source": [
    "d = {'Key1':{\"Key2\":\"Value\"}}"
   ]
  },
  {
   "cell_type": "code",
   "execution_count": 28,
   "id": "8075409c",
   "metadata": {},
   "outputs": [
    {
     "ename": "TypeError",
     "evalue": "string indices must be integers",
     "output_type": "error",
     "traceback": [
      "\u001b[1;31m---------------------------------------------------------------------------\u001b[0m",
      "\u001b[1;31mTypeError\u001b[0m                                 Traceback (most recent call last)",
      "Cell \u001b[1;32mIn[28], line 3\u001b[0m\n\u001b[0;32m      1\u001b[0m \u001b[38;5;28;01mfor\u001b[39;00m key,value \u001b[38;5;129;01min\u001b[39;00m d\u001b[38;5;241m.\u001b[39mitems():\n\u001b[0;32m      2\u001b[0m     \u001b[38;5;28;01mfor\u001b[39;00m i \u001b[38;5;129;01min\u001b[39;00m value:\n\u001b[1;32m----> 3\u001b[0m         \u001b[38;5;28mprint\u001b[39m(\u001b[43mkey\u001b[49m\u001b[43m[\u001b[49m\u001b[43mi\u001b[49m\u001b[43m]\u001b[49m)\n",
      "\u001b[1;31mTypeError\u001b[0m: string indices must be integers"
     ]
    }
   ],
   "source": [
    "for key,value in d.items():\n",
    "    for i in value:\n",
    "        print(key[i])"
   ]
  },
  {
   "cell_type": "code",
   "execution_count": null,
   "id": "6f5b9109",
   "metadata": {},
   "outputs": [],
   "source": []
  }
 ],
 "metadata": {
  "kernelspec": {
   "display_name": "Python 3 (ipykernel)",
   "language": "python",
   "name": "python3"
  },
  "language_info": {
   "codemirror_mode": {
    "name": "ipython",
    "version": 3
   },
   "file_extension": ".py",
   "mimetype": "text/x-python",
   "name": "python",
   "nbconvert_exporter": "python",
   "pygments_lexer": "ipython3",
   "version": "3.10.9"
  }
 },
 "nbformat": 4,
 "nbformat_minor": 5
}
