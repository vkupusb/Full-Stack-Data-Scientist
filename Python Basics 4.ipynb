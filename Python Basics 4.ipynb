{
 "cells": [
  {
   "cell_type": "code",
   "execution_count": 1,
   "id": "41f28795",
   "metadata": {},
   "outputs": [],
   "source": [
    "%config IPCompleter.greedy=True"
   ]
  },
  {
   "cell_type": "code",
   "execution_count": 3,
   "id": "c1af16af",
   "metadata": {},
   "outputs": [],
   "source": [
    "myset = set({5,3,1})"
   ]
  },
  {
   "cell_type": "code",
   "execution_count": 4,
   "id": "761c2d91",
   "metadata": {
    "scrolled": false
   },
   "outputs": [
    {
     "data": {
      "text/plain": [
       "{1, 3, 5}"
      ]
     },
     "execution_count": 4,
     "metadata": {},
     "output_type": "execute_result"
    }
   ],
   "source": [
    "myset"
   ]
  },
  {
   "cell_type": "code",
   "execution_count": 5,
   "id": "239680ac",
   "metadata": {},
   "outputs": [],
   "source": [
    "myset.add(5)"
   ]
  },
  {
   "cell_type": "code",
   "execution_count": 6,
   "id": "9b8d17ff",
   "metadata": {},
   "outputs": [
    {
     "data": {
      "text/plain": [
       "{1, 3, 5}"
      ]
     },
     "execution_count": 6,
     "metadata": {},
     "output_type": "execute_result"
    }
   ],
   "source": [
    "myset"
   ]
  },
  {
   "cell_type": "code",
   "execution_count": 7,
   "id": "32f5127c",
   "metadata": {},
   "outputs": [],
   "source": [
    "myset.add(\"victory\")\n",
    "myset.add(\"Deep\")\n",
    "myset.add(\"gold\")\n",
    "myset.add(\"save\")\n"
   ]
  },
  {
   "cell_type": "code",
   "execution_count": 8,
   "id": "cf0d21b6",
   "metadata": {},
   "outputs": [
    {
     "data": {
      "text/plain": [
       "{1, 3, 5, 'Deep', 'gold', 'save', 'victory'}"
      ]
     },
     "execution_count": 8,
     "metadata": {},
     "output_type": "execute_result"
    }
   ],
   "source": [
    "myset"
   ]
  },
  {
   "cell_type": "code",
   "execution_count": 9,
   "id": "0d62a303",
   "metadata": {},
   "outputs": [],
   "source": [
    "another_set = myset.copy()"
   ]
  },
  {
   "cell_type": "code",
   "execution_count": 10,
   "id": "cf251e29",
   "metadata": {},
   "outputs": [
    {
     "name": "stdout",
     "output_type": "stream",
     "text": [
      "{'save', 1, 3, 5, 'victory', 'gold', 'Deep'}\n"
     ]
    }
   ],
   "source": [
    "print(another_set)"
   ]
  },
  {
   "cell_type": "code",
   "execution_count": 14,
   "id": "096d6442",
   "metadata": {},
   "outputs": [],
   "source": [
    "another_set.add('Bosch')\n",
    "myset.symmetric_difference_update(another_set)"
   ]
  },
  {
   "cell_type": "code",
   "execution_count": 15,
   "id": "4c8b0c48",
   "metadata": {},
   "outputs": [
    {
     "data": {
      "text/plain": [
       "{'Bosch'}"
      ]
     },
     "execution_count": 15,
     "metadata": {},
     "output_type": "execute_result"
    }
   ],
   "source": [
    "myset\n"
   ]
  },
  {
   "cell_type": "code",
   "execution_count": 16,
   "id": "4c2f5962",
   "metadata": {},
   "outputs": [],
   "source": [
    "dist1 = {\"Name\":\"Vishva\",\"Age\":42,\"Gender\":\"Male\"}"
   ]
  },
  {
   "cell_type": "code",
   "execution_count": 17,
   "id": "f2527a5c",
   "metadata": {},
   "outputs": [
    {
     "name": "stdout",
     "output_type": "stream",
     "text": [
      "{'Name': 'Vishva', 'Age': 42, 'Gender': 'Male'}\n"
     ]
    }
   ],
   "source": [
    "print(dist1)"
   ]
  },
  {
   "cell_type": "code",
   "execution_count": 18,
   "id": "95f71782",
   "metadata": {},
   "outputs": [
    {
     "name": "stdout",
     "output_type": "stream",
     "text": [
      "dict_keys(['Name', 'Age', 'Gender'])\n"
     ]
    }
   ],
   "source": [
    "print(dist1.keys())"
   ]
  },
  {
   "cell_type": "code",
   "execution_count": 19,
   "id": "f2fd5dbc",
   "metadata": {},
   "outputs": [
    {
     "name": "stdout",
     "output_type": "stream",
     "text": [
      "dict_items([('Name', 'Vishva'), ('Age', 42), ('Gender', 'Male')])\n"
     ]
    }
   ],
   "source": [
    "print(dist1.items())"
   ]
  },
  {
   "cell_type": "code",
   "execution_count": 22,
   "id": "fc1df609",
   "metadata": {},
   "outputs": [],
   "source": [
    "dist2 = dict(Name=\"V\",Age=21,Gender=\"Male\")"
   ]
  },
  {
   "cell_type": "code",
   "execution_count": 23,
   "id": "37e90351",
   "metadata": {},
   "outputs": [
    {
     "name": "stdout",
     "output_type": "stream",
     "text": [
      "{'Name': 'V', 'Age': 21, 'Gender': 'Male'}\n"
     ]
    }
   ],
   "source": [
    "print(dist2)"
   ]
  },
  {
   "cell_type": "code",
   "execution_count": null,
   "id": "81cd7b9a",
   "metadata": {},
   "outputs": [],
   "source": []
  },
  {
   "cell_type": "code",
   "execution_count": null,
   "id": "fb192aee",
   "metadata": {},
   "outputs": [],
   "source": []
  },
  {
   "cell_type": "code",
   "execution_count": null,
   "id": "14f1faa0",
   "metadata": {},
   "outputs": [],
   "source": []
  }
 ],
 "metadata": {
  "kernelspec": {
   "display_name": "Python 3 (ipykernel)",
   "language": "python",
   "name": "python3"
  },
  "language_info": {
   "codemirror_mode": {
    "name": "ipython",
    "version": 3
   },
   "file_extension": ".py",
   "mimetype": "text/x-python",
   "name": "python",
   "nbconvert_exporter": "python",
   "pygments_lexer": "ipython3",
   "version": "3.10.9"
  }
 },
 "nbformat": 4,
 "nbformat_minor": 5
}
