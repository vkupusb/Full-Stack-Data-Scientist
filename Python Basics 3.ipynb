{
 "cells": [
  {
   "cell_type": "code",
   "execution_count": 1,
   "id": "4c85d53b",
   "metadata": {},
   "outputs": [],
   "source": [
    "#slicing string \n",
    "name = str(\"Vishvanathan Kuppusamy\")\n"
   ]
  },
  {
   "cell_type": "code",
   "execution_count": 2,
   "id": "123ea3d6",
   "metadata": {},
   "outputs": [],
   "source": [
    "%config IPCompleter.greedy=True\n"
   ]
  },
  {
   "cell_type": "code",
   "execution_count": 3,
   "id": "c0166344",
   "metadata": {},
   "outputs": [
    {
     "name": "stdout",
     "output_type": "stream",
     "text": [
      "Vishvanathan Kuppusamy\n"
     ]
    }
   ],
   "source": [
    "print(name)"
   ]
  },
  {
   "cell_type": "code",
   "execution_count": 4,
   "id": "b0e6ee1c",
   "metadata": {},
   "outputs": [
    {
     "name": "stdout",
     "output_type": "stream",
     "text": [
      "Vishvanathan Kuppusamy\n"
     ]
    }
   ],
   "source": [
    "print(name[::])"
   ]
  },
  {
   "cell_type": "code",
   "execution_count": 5,
   "id": "ae3d4e29",
   "metadata": {},
   "outputs": [
    {
     "name": "stdout",
     "output_type": "stream",
     "text": [
      "ymasuppuK nahtanavhsiV\n"
     ]
    }
   ],
   "source": [
    "print(name[::-1])"
   ]
  },
  {
   "cell_type": "code",
   "execution_count": 6,
   "id": "64eee981",
   "metadata": {},
   "outputs": [
    {
     "name": "stdout",
     "output_type": "stream",
     "text": [
      "Vishvanathan \n"
     ]
    }
   ],
   "source": [
    "print(name[:13:1])"
   ]
  },
  {
   "cell_type": "code",
   "execution_count": 8,
   "id": "88a481db",
   "metadata": {},
   "outputs": [
    {
     "name": "stdout",
     "output_type": "stream",
     "text": [
      "Kuppusamy\n"
     ]
    }
   ],
   "source": [
    "print(name[13::1])"
   ]
  },
  {
   "cell_type": "code",
   "execution_count": 11,
   "id": "d7bce6bf",
   "metadata": {},
   "outputs": [
    {
     "name": "stdout",
     "output_type": "stream",
     "text": [
      "Kuppusamy\n"
     ]
    }
   ],
   "source": [
    "print(name[-9:])"
   ]
  },
  {
   "cell_type": "code",
   "execution_count": 12,
   "id": "c42eeb63",
   "metadata": {},
   "outputs": [
    {
     "name": "stdout",
     "output_type": "stream",
     "text": [
      "Kuppu\n"
     ]
    }
   ],
   "source": [
    "print(name[-9:-4])"
   ]
  },
  {
   "cell_type": "code",
   "execution_count": 13,
   "id": "aae9acb3",
   "metadata": {},
   "outputs": [
    {
     "name": "stdout",
     "output_type": "stream",
     "text": [
      "vishvanathan kuppusamy\n"
     ]
    }
   ],
   "source": [
    "#all lowercase\n",
    "print(name.lower())"
   ]
  },
  {
   "cell_type": "code",
   "execution_count": 18,
   "id": "2b6a0948",
   "metadata": {},
   "outputs": [
    {
     "name": "stdout",
     "output_type": "stream",
     "text": [
      "VISHVANATHAN KUPPUSAMY\n",
      "vishvanathan kuppusamy\n"
     ]
    }
   ],
   "source": [
    "#all uppercase\n",
    "print(name.upper())\n",
    "name = name.lower()\n",
    "print(name)"
   ]
  },
  {
   "cell_type": "code",
   "execution_count": 17,
   "id": "5556c83a",
   "metadata": {},
   "outputs": [
    {
     "name": "stdout",
     "output_type": "stream",
     "text": [
      "Vishvanathan kuppusamy\n"
     ]
    }
   ],
   "source": [
    "#captalize the word\n",
    "print(name.capitalize())"
   ]
  },
  {
   "cell_type": "code",
   "execution_count": 19,
   "id": "314db712",
   "metadata": {},
   "outputs": [
    {
     "name": "stdout",
     "output_type": "stream",
     "text": [
      "['vishvanathan', 'kuppusamy']\n"
     ]
    }
   ],
   "source": [
    "#split the name\n",
    "print(name.split())"
   ]
  },
  {
   "cell_type": "code",
   "execution_count": 21,
   "id": "33cf1f95",
   "metadata": {},
   "outputs": [
    {
     "name": "stdout",
     "output_type": "stream",
     "text": [
      "['vishvanathan', 'kuppusamy']\n"
     ]
    }
   ],
   "source": [
    "#split the name with whitespace\n",
    "print(name.split(\" \"))"
   ]
  },
  {
   "cell_type": "code",
   "execution_count": 22,
   "id": "cd683a53",
   "metadata": {},
   "outputs": [
    {
     "name": "stdout",
     "output_type": "stream",
     "text": [
      "vishvinithin kuppusimy\n"
     ]
    }
   ],
   "source": [
    "#replace a with i\n",
    "print(name.replace('a','i'))"
   ]
  },
  {
   "cell_type": "code",
   "execution_count": 23,
   "id": "6487a750",
   "metadata": {},
   "outputs": [
    {
     "name": "stdout",
     "output_type": "stream",
     "text": [
      "vishvanathan kuppusamy\n"
     ]
    }
   ],
   "source": [
    "print(name.casefold())"
   ]
  },
  {
   "cell_type": "code",
   "execution_count": 25,
   "id": "4c011bc7",
   "metadata": {},
   "outputs": [
    {
     "name": "stdout",
     "output_type": "stream",
     "text": [
      "4\n"
     ]
    }
   ],
   "source": [
    "print(name.count('a'))"
   ]
  },
  {
   "cell_type": "code",
   "execution_count": 26,
   "id": "8a23cb14",
   "metadata": {},
   "outputs": [
    {
     "name": "stdout",
     "output_type": "stream",
     "text": [
      "8\n"
     ]
    }
   ],
   "source": [
    "print(name.find('t'))"
   ]
  },
  {
   "cell_type": "code",
   "execution_count": 28,
   "id": "2ccc1c8c",
   "metadata": {},
   "outputs": [
    {
     "name": "stdout",
     "output_type": "stream",
     "text": [
      "vishvanathan kuppusamy\n"
     ]
    }
   ],
   "source": [
    "print(name.format(\"%d\",name.count('a')))"
   ]
  },
  {
   "cell_type": "code",
   "execution_count": 30,
   "id": "5dc250dc",
   "metadata": {},
   "outputs": [
    {
     "name": "stdout",
     "output_type": "stream",
     "text": [
      "vishvanathan kuppusamy\n"
     ]
    }
   ],
   "source": [
    "num = '12345'\n",
    "print(name.strip('n'))"
   ]
  },
  {
   "cell_type": "code",
   "execution_count": 31,
   "id": "f398d1a3",
   "metadata": {},
   "outputs": [
    {
     "name": "stdout",
     "output_type": "stream",
     "text": [
      "True\n"
     ]
    }
   ],
   "source": [
    "print(num.isdigit())"
   ]
  },
  {
   "cell_type": "code",
   "execution_count": 32,
   "id": "ae852155",
   "metadata": {},
   "outputs": [
    {
     "name": "stdout",
     "output_type": "stream",
     "text": [
      "False\n"
     ]
    }
   ],
   "source": [
    "print(name.isdigit())"
   ]
  },
  {
   "cell_type": "code",
   "execution_count": 33,
   "id": "e43bd80a",
   "metadata": {},
   "outputs": [
    {
     "name": "stdout",
     "output_type": "stream",
     "text": [
      "['This', 'function', 'does', 'the', 'actual', 'work', 'of', 'formatting.', 'It', 'is', 'exposed', 'as', 'a', 'separate', 'function', 'for', 'cases', 'where', 'you', 'want', 'to', 'pass', 'in', 'a', 'predefined', 'dictionary', 'of', 'arguments,', 'rather', 'than', 'unpacking', 'and', 'repacking', 'the', 'dictionary', 'as', 'individual', 'arguments', 'using', 'the', '*args', 'and', '**kwargs', 'syntax.', 'vformat()', 'does', 'the', 'work', 'of', 'breaking', 'up', 'the', 'format', 'string', 'into', 'character', 'data', 'and', 'replacement', 'fields.', 'It', 'calls', 'the', 'various', 'methods', 'described', 'below']\n"
     ]
    }
   ],
   "source": [
    "msg = 'This function does the actual work of formatting. It is exposed as a separate function for cases where you want to pass in a predefined dictionary of arguments, rather than unpacking and repacking the dictionary as individual arguments using the *args and **kwargs syntax. vformat() does the work of breaking up the format string into character data and replacement fields. It calls the various methods described below'\n",
    "print(msg.split())"
   ]
  },
  {
   "cell_type": "code",
   "execution_count": 34,
   "id": "f1973747",
   "metadata": {},
   "outputs": [],
   "source": [
    "tut = msg.split()"
   ]
  },
  {
   "cell_type": "code",
   "execution_count": 35,
   "id": "545775b7",
   "metadata": {},
   "outputs": [],
   "source": [
    "tut.insert(1,\"Python\")"
   ]
  },
  {
   "cell_type": "code",
   "execution_count": 38,
   "id": "0a8f9512",
   "metadata": {},
   "outputs": [
    {
     "name": "stdout",
     "output_type": "stream",
     "text": [
      "3\n"
     ]
    }
   ],
   "source": [
    "print(tut.count('of'))"
   ]
  },
  {
   "cell_type": "code",
   "execution_count": 39,
   "id": "d819f64f",
   "metadata": {},
   "outputs": [
    {
     "data": {
      "text/plain": [
       "['This',\n",
       " 'Python',\n",
       " 'function',\n",
       " 'does',\n",
       " 'the',\n",
       " 'actual',\n",
       " 'work',\n",
       " 'of',\n",
       " 'formatting.',\n",
       " 'It',\n",
       " 'is',\n",
       " 'exposed',\n",
       " 'as',\n",
       " 'a',\n",
       " 'separate',\n",
       " 'function',\n",
       " 'for',\n",
       " 'cases',\n",
       " 'where',\n",
       " 'you',\n",
       " 'want',\n",
       " 'to',\n",
       " 'pass',\n",
       " 'in',\n",
       " 'a',\n",
       " 'predefined',\n",
       " 'dictionary',\n",
       " 'of',\n",
       " 'arguments,',\n",
       " 'rather',\n",
       " 'than',\n",
       " 'unpacking',\n",
       " 'and',\n",
       " 'repacking',\n",
       " 'the',\n",
       " 'dictionary',\n",
       " 'as',\n",
       " 'individual',\n",
       " 'arguments',\n",
       " 'using',\n",
       " 'the',\n",
       " '*args',\n",
       " 'and',\n",
       " '**kwargs',\n",
       " 'syntax.',\n",
       " 'vformat()',\n",
       " 'does',\n",
       " 'the',\n",
       " 'work',\n",
       " 'of',\n",
       " 'breaking',\n",
       " 'up',\n",
       " 'the',\n",
       " 'format',\n",
       " 'string',\n",
       " 'into',\n",
       " 'character',\n",
       " 'data',\n",
       " 'and',\n",
       " 'replacement',\n",
       " 'fields.',\n",
       " 'It',\n",
       " 'calls',\n",
       " 'the',\n",
       " 'various',\n",
       " 'methods',\n",
       " 'described',\n",
       " 'below']"
      ]
     },
     "execution_count": 39,
     "metadata": {},
     "output_type": "execute_result"
    }
   ],
   "source": [
    "tut"
   ]
  },
  {
   "cell_type": "code",
   "execution_count": 40,
   "id": "28546eb9",
   "metadata": {},
   "outputs": [],
   "source": [
    "del tut[1]"
   ]
  },
  {
   "cell_type": "code",
   "execution_count": 42,
   "id": "117ed7e0",
   "metadata": {},
   "outputs": [
    {
     "data": {
      "text/plain": [
       "'below'"
      ]
     },
     "execution_count": 42,
     "metadata": {},
     "output_type": "execute_result"
    }
   ],
   "source": [
    "tut.pop()\n"
   ]
  },
  {
   "cell_type": "code",
   "execution_count": 43,
   "id": "daba57b8",
   "metadata": {},
   "outputs": [
    {
     "name": "stdout",
     "output_type": "stream",
     "text": [
      "['This', 'function', 'does', 'the', 'actual', 'work', 'of', 'formatting.', 'It', 'is', 'exposed', 'as', 'a', 'separate', 'function', 'for', 'cases', 'where', 'you', 'want', 'to', 'pass', 'in', 'a', 'predefined', 'dictionary', 'of', 'arguments,', 'rather', 'than', 'unpacking', 'and', 'repacking', 'the', 'dictionary', 'as', 'individual', 'arguments', 'using', 'the', '*args', 'and', '**kwargs', 'syntax.', 'vformat()', 'does', 'the', 'work', 'of', 'breaking', 'up', 'the', 'format', 'string', 'into', 'character', 'data', 'and', 'replacement', 'fields.', 'It', 'calls', 'the', 'various', 'methods', 'described']\n"
     ]
    }
   ],
   "source": [
    "print(tut)"
   ]
  },
  {
   "cell_type": "code",
   "execution_count": 44,
   "id": "ce2f2a65",
   "metadata": {},
   "outputs": [
    {
     "name": "stdout",
     "output_type": "stream",
     "text": [
      "66\n"
     ]
    }
   ],
   "source": [
    "print(len(tut))"
   ]
  },
  {
   "cell_type": "code",
   "execution_count": 49,
   "id": "705f1936",
   "metadata": {},
   "outputs": [
    {
     "name": "stdout",
     "output_type": "stream",
     "text": [
      "the\n",
      "rather\n",
      "the\n",
      "the\n",
      "the\n",
      "the\n",
      "the\n"
     ]
    }
   ],
   "source": [
    "for i in range(len(tut)):\n",
    "    \n",
    "    if 'the' in tut[i]:\n",
    "        print(tut[i])"
   ]
  },
  {
   "cell_type": "code",
   "execution_count": 50,
   "id": "db671f82",
   "metadata": {},
   "outputs": [],
   "source": [
    "newlist = [i for i in tut if 'the' in i]"
   ]
  },
  {
   "cell_type": "code",
   "execution_count": 51,
   "id": "7c00dd93",
   "metadata": {},
   "outputs": [
    {
     "data": {
      "text/plain": [
       "['the', 'rather', 'the', 'the', 'the', 'the', 'the']"
      ]
     },
     "execution_count": 51,
     "metadata": {},
     "output_type": "execute_result"
    }
   ],
   "source": [
    "newlist"
   ]
  },
  {
   "cell_type": "code",
   "execution_count": 54,
   "id": "6cc7f66e",
   "metadata": {},
   "outputs": [],
   "source": [
    "tut.sort()"
   ]
  },
  {
   "cell_type": "code",
   "execution_count": 55,
   "id": "1197a143",
   "metadata": {},
   "outputs": [
    {
     "data": {
      "text/plain": [
       "['**kwargs',\n",
       " '*args',\n",
       " 'It',\n",
       " 'It',\n",
       " 'This',\n",
       " 'a',\n",
       " 'a',\n",
       " 'actual',\n",
       " 'and',\n",
       " 'and',\n",
       " 'and',\n",
       " 'arguments',\n",
       " 'arguments,',\n",
       " 'as',\n",
       " 'as',\n",
       " 'breaking',\n",
       " 'calls',\n",
       " 'cases',\n",
       " 'character',\n",
       " 'data',\n",
       " 'described',\n",
       " 'dictionary',\n",
       " 'dictionary',\n",
       " 'does',\n",
       " 'does',\n",
       " 'exposed',\n",
       " 'fields.',\n",
       " 'for',\n",
       " 'format',\n",
       " 'formatting.',\n",
       " 'function',\n",
       " 'function',\n",
       " 'in',\n",
       " 'individual',\n",
       " 'into',\n",
       " 'is',\n",
       " 'methods',\n",
       " 'of',\n",
       " 'of',\n",
       " 'of',\n",
       " 'pass',\n",
       " 'predefined',\n",
       " 'rather',\n",
       " 'repacking',\n",
       " 'replacement',\n",
       " 'separate',\n",
       " 'string',\n",
       " 'syntax.',\n",
       " 'than',\n",
       " 'the',\n",
       " 'the',\n",
       " 'the',\n",
       " 'the',\n",
       " 'the',\n",
       " 'the',\n",
       " 'to',\n",
       " 'unpacking',\n",
       " 'up',\n",
       " 'using',\n",
       " 'various',\n",
       " 'vformat()',\n",
       " 'want',\n",
       " 'where',\n",
       " 'work',\n",
       " 'work',\n",
       " 'you']"
      ]
     },
     "execution_count": 55,
     "metadata": {},
     "output_type": "execute_result"
    }
   ],
   "source": [
    "tut"
   ]
  },
  {
   "cell_type": "code",
   "execution_count": 56,
   "id": "1cb6d3e0",
   "metadata": {},
   "outputs": [],
   "source": [
    "tup1 = tuple(tut)"
   ]
  },
  {
   "cell_type": "code",
   "execution_count": 59,
   "id": "ee687064",
   "metadata": {},
   "outputs": [
    {
     "data": {
      "text/plain": [
       "('*args', 'a')"
      ]
     },
     "execution_count": 59,
     "metadata": {},
     "output_type": "execute_result"
    }
   ],
   "source": [
    "tup1[1:10:5]"
   ]
  },
  {
   "cell_type": "code",
   "execution_count": null,
   "id": "bef0aa5f",
   "metadata": {},
   "outputs": [],
   "source": []
  },
  {
   "cell_type": "code",
   "execution_count": null,
   "id": "cb4c1418",
   "metadata": {},
   "outputs": [],
   "source": []
  },
  {
   "cell_type": "code",
   "execution_count": null,
   "id": "3c919287",
   "metadata": {},
   "outputs": [],
   "source": []
  },
  {
   "cell_type": "code",
   "execution_count": null,
   "id": "6e047952",
   "metadata": {},
   "outputs": [],
   "source": []
  },
  {
   "cell_type": "code",
   "execution_count": null,
   "id": "3bacee77",
   "metadata": {},
   "outputs": [],
   "source": []
  },
  {
   "cell_type": "code",
   "execution_count": null,
   "id": "a7595d82",
   "metadata": {},
   "outputs": [],
   "source": []
  },
  {
   "cell_type": "code",
   "execution_count": null,
   "id": "23c86acb",
   "metadata": {},
   "outputs": [],
   "source": []
  },
  {
   "cell_type": "code",
   "execution_count": null,
   "id": "30da0d86",
   "metadata": {},
   "outputs": [],
   "source": []
  },
  {
   "cell_type": "code",
   "execution_count": null,
   "id": "e09f2c30",
   "metadata": {},
   "outputs": [],
   "source": []
  },
  {
   "cell_type": "code",
   "execution_count": null,
   "id": "2a702cf3",
   "metadata": {},
   "outputs": [],
   "source": []
  }
 ],
 "metadata": {
  "kernelspec": {
   "display_name": "Python 3 (ipykernel)",
   "language": "python",
   "name": "python3"
  },
  "language_info": {
   "codemirror_mode": {
    "name": "ipython",
    "version": 3
   },
   "file_extension": ".py",
   "mimetype": "text/x-python",
   "name": "python",
   "nbconvert_exporter": "python",
   "pygments_lexer": "ipython3",
   "version": "3.10.9"
  }
 },
 "nbformat": 4,
 "nbformat_minor": 5
}
